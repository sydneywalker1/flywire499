{
 "cells": [
  {
   "attachments": {},
   "cell_type": "markdown",
   "metadata": {},
   "source": [
    "## Importing all packages/data"
   ]
  },
  {
   "cell_type": "code",
   "execution_count": 133,
   "metadata": {},
   "outputs": [],
   "source": [
    "#Importing packages\n",
    "import pandas as pd\n",
    "import numpy as np\n",
    "import matplotlib.pyplot as plt\n",
    "from sklearn.cluster import KMeans\n",
    "from mpl_toolkits.mplot3d import Axes3D\n",
    "from matplotlib_venn import venn3"
   ]
  },
  {
   "cell_type": "code",
   "execution_count": 2,
   "metadata": {},
   "outputs": [],
   "source": [
    "# Importing the neurons dataset, connections dataset, and the neurons flywire has classified as sugar/bitter/water/IR94e GRNs\n",
    "# neurons = pd.read_csv('/Users/SydneyWalker/Downloads/neurons.csv.gz')\n",
    "\n",
    "connections = pd.read_csv('/Users/SydneyWalker/Downloads/connections.csv.gz')\n",
    "sugar_neurons = pd.read_csv('/Users/SydneyWalker/Downloads/sugar_neurons.csv').query(\"side == 'left'\")\n",
    "bitter_neurons = pd.read_csv('/Users/SydneyWalker/Downloads/bitter_neurons.csv').query(\"side == 'left'\")\n",
    "water_neurons = pd.read_csv('/Users/SydneyWalker/Downloads/water_neurons.csv').query(\"side == 'left'\") #[['root_id','label','output_synapses']]\n",
    "lowsalt_neurons = pd.read_csv('/Users/SydneyWalker/Downloads/lowsalt_neurons.csv').query(\"side == 'left'\") #[['root_id','label','output_synapses']]"
   ]
  },
  {
   "cell_type": "code",
   "execution_count": 9,
   "metadata": {},
   "outputs": [],
   "source": [
    "# importing the neurons {downstream} of sugar/bitter/water/IR94e\n",
    "\n",
    "sugar_downstream = pd.read_csv('/Users/SydneyWalker/Downloads/sugar_downstream.csv').query(\"side == 'left'\")[['root_id','label','input_synapses','output_synapses']]\n",
    "bitter_downstream = pd.read_csv('/Users/SydneyWalker/Downloads/bitter_downstream.csv').query(\"side == 'left'\")[['root_id','label','input_synapses','output_synapses']]\n",
    "water_downstream = pd.read_csv('/Users/SydneyWalker/Downloads/water_downstream.csv').query(\"side == 'left'\")[['root_id','label','input_synapses','output_synapses']]\n",
    "lowsalt_downstream = pd.read_csv('/Users/SydneyWalker/Downloads/lowsalt_downstream.csv')[['root_id','label','input_synapses','output_synapses']]"
   ]
  },
  {
   "cell_type": "code",
   "execution_count": 7,
   "metadata": {},
   "outputs": [],
   "source": [
    "# reorganizing the connections dataset to be ordered by the identifying upstream \n",
    "# neuron and labeling each by the number of synapses between them \n",
    "#THRESHOLD FOR LATER???????\n",
    "\n",
    "results = connections.groupby(['pre_root_id', 'post_root_id','neuropil'])['syn_count'].sum().reset_index()"
   ]
  },
  {
   "cell_type": "code",
   "execution_count": 45,
   "metadata": {},
   "outputs": [],
   "source": [
    "#gives us the number of upstream cells of all second order cells based on connections dataset\n",
    "\n",
    "cells_upstream = connections.groupby('post_root_id')['pre_root_id'].nunique().reset_index()\n",
    "cells_upstream.columns = ['second order cell ID', '# upstream cells']"
   ]
  },
  {
   "attachments": {},
   "cell_type": "markdown",
   "metadata": {},
   "source": [
    "### Looking at the proportion of input second-orders receive from their own modality (# synapses and # cells)\n",
    "This code will provide information abut of second order order GRNs and their\n",
    "- ratio of input taste/non-taste synapses\n",
    "- ratio of input taste/non-taste cells\n",
    "- number of output synapses  and their input/output synapse and cell ratios"
   ]
  },
  {
   "cell_type": "code",
   "execution_count": 54,
   "metadata": {},
   "outputs": [],
   "source": [
    "# extracting sugar neurons from the results dataset, pre_root_id = sugar GRNs, post_root_id = first order\n",
    "# sugar neurons\n",
    "sugar_merge = pd.merge(results, sugar_neurons['root_id'], left_on = 'pre_root_id', right_on = 'root_id', how = 'inner')\n",
    "sugar_merge = sugar_merge.drop(columns='root_id')\n",
    "\n",
    "sugar_merge2 = pd.merge(sugar_merge, sugar_downstream, left_on = 'post_root_id', right_on = 'root_id', how = 'inner')\n",
    "sugar_connections = sugar_merge2.groupby('post_root_id')['syn_count'].sum().reset_index()\n",
    "sugar_labels = pd.merge(sugar_connections, sugar_downstream,left_on = 'post_root_id', right_on = 'root_id', how = 'inner')\n",
    "sugar_labels = sugar_labels.drop(columns = 'root_id')\n",
    "\n",
    "sugar_labels.rename(columns={'input_synapses': 'total # input synapses','syn_count':'# input sugar GRN synapses','post_root_id':'second order cell ID'}, inplace=True)\n",
    "sugar_labels['% input from sugar GRNs'] = sugar_labels['# input sugar GRN synapses'] / sugar_labels['total # input synapses'] * 100\n",
    "sugar_labels = sugar_labels.sort_values(by = '% input from sugar GRNs', ascending = False)\n",
    "\n",
    "sugar_upstream = sugar_merge2.groupby('post_root_id')['pre_root_id'].nunique().reset_index()\n",
    "sugar_upstream.columns = ['second order cell ID', '# upstream sugar cells']\n",
    "\n",
    "sugar_labels2 = pd.merge(sugar_labels, sugar_upstream, on = 'second order cell ID')\n",
    "sugar_labels2 = pd.merge(sugar_labels2, cells_upstream, on = 'second order cell ID', how = 'inner')\n",
    "\n",
    "#SUGAR_LABELS2 "
   ]
  },
  {
   "cell_type": "code",
   "execution_count": 56,
   "metadata": {},
   "outputs": [],
   "source": [
    "water_merge = pd.merge(results, water_neurons['root_id'], left_on = 'pre_root_id', right_on = 'root_id', how = 'inner')\n",
    "water_merge = water_merge.drop(columns='root_id')\n",
    "\n",
    "water_merge2 = pd.merge(water_merge, water_downstream, left_on = 'post_root_id', right_on = 'root_id', how = 'inner')\n",
    "water_connections = water_merge2.groupby('post_root_id')['syn_count'].sum().reset_index()\n",
    "\n",
    "water_labels = pd.merge(water_connections, water_downstream,left_on = 'post_root_id', right_on = 'root_id', how = 'inner')\n",
    "water_labels = water_labels.drop(columns = 'root_id')\n",
    "\n",
    "water_labels.rename(columns={'input_synapses': 'total # input synapses','syn_count':'# input water GRN synapses','post_root_id':'second order cell ID'}, inplace=True)\n",
    "water_labels['% input from water GRNs'] = water_labels['# input water GRN synapses'] / water_labels['total # input synapses'] * 100\n",
    "water_labels = water_labels.sort_values(by = '% input from water GRNs', ascending = False)\n",
    "\n",
    "water_upstream = water_merge2.groupby('post_root_id')['pre_root_id'].nunique().reset_index()\n",
    "water_upstream.columns = ['second order cell ID', '# upstream water cells']\n",
    "\n",
    "water_labels2 = pd.merge(water_labels, water_upstream, on = 'second order cell ID')\n",
    "water_labels2 = pd.merge(water_labels2, cells_upstream, on = 'second order cell ID', how = 'inner')\n",
    "\n",
    "#WATER_LABELS2"
   ]
  },
  {
   "cell_type": "code",
   "execution_count": 46,
   "metadata": {},
   "outputs": [],
   "source": [
    "bitter_merge = pd.merge(results, bitter_neurons['root_id'], left_on = 'pre_root_id', right_on = 'root_id', how = 'inner')\n",
    "bitter_merge = bitter_merge.drop(columns='root_id')\n",
    "\n",
    "bitter_merge2 = pd.merge(bitter_merge, bitter_downstream, left_on = 'post_root_id', right_on = 'root_id', how = 'inner')\n",
    "bitter_connections = bitter_merge2.groupby('post_root_id')['syn_count'].sum().reset_index()\n",
    "\n",
    "bitter_labels = pd.merge(bitter_connections, bitter_downstream,left_on = 'post_root_id', right_on = 'root_id', how = 'inner')\n",
    "bitter_labels = bitter_labels.drop(columns = 'root_id')\n",
    "\n",
    "bitter_labels.rename(columns={'input_synapses': 'total # input synapses','syn_count':'# input bitter GRN synapses','post_root_id':'second order cell ID'}, inplace=True)\n",
    "bitter_labels['% input from bitter GRNs'] = bitter_labels['# input bitter GRN synapses'] / bitter_labels['total # input synapses'] * 100\n",
    "bitter_labels = bitter_labels.sort_values(by = '% input from bitter GRNs', ascending = False)\n",
    "\n",
    "bitter_upstream = bitter_merge2.groupby('post_root_id')['pre_root_id'].nunique().reset_index()\n",
    "bitter_upstream.columns = ['second order cell ID', '# upstream bitter cells']\n",
    "\n",
    "bitter_labels2 = pd.merge(bitter_labels, bitter_upstream, on = 'second order cell ID')\n",
    "bitter_labels2 = pd.merge(bitter_labels2, cells_upstream, on = 'second order cell ID', how = 'inner')\n",
    "\n",
    "#BITTER_LABELS2"
   ]
  },
  {
   "cell_type": "code",
   "execution_count": 42,
   "metadata": {},
   "outputs": [],
   "source": [
    "result = connections.groupby(['pre_root_id', 'post_root_id','neuropil'])['syn_count'].sum().reset_index()\n",
    "\n",
    "lowsalt_merge = pd.merge(result, lowsalt_neurons['root_id'], left_on = 'pre_root_id', right_on = 'root_id', how = 'inner')\n",
    "lowsalt_merge = lowsalt_merge.drop(columns='root_id')\n",
    "\n",
    "lowsalt_merge2 = pd.merge(lowsalt_merge, lowsalt_downstream, left_on = 'post_root_id', right_on = 'root_id', how = 'inner')\n",
    "lowsalt_connections = lowsalt_merge2.groupby(['post_root_id'])['syn_count'].sum().reset_index()\n",
    "\n",
    "lowsalt_labels = pd.merge(lowsalt_connections, lowsalt_downstream,left_on = 'post_root_id', right_on = 'root_id', how = 'inner')\n",
    "lowsalt_labels = lowsalt_labels.drop(columns = 'root_id')\n",
    "\n",
    "lowsalt_labels.rename(columns={'input_synapses': 'total_num_input_synapses','syn_count':'num_input_lowsalt_synapses','post_root_id':'second_order_cell_ID'}, inplace=True)\n",
    "lowsalt_labels['percent_input_from_lowsalt_GRNs'] = lowsalt_labels['num_input_lowsalt_synapses'] / lowsalt_labels['total_num_input_synapses'] * 100\n",
    "lowsalt_labels = lowsalt_labels.sort_values(by = 'percent_input_from_lowsalt_GRNs', ascending = False)\n",
    "\n",
    "lowsalt_upstream = lowsalt_merge2.groupby('post_root_id')['pre_root_id'].nunique().reset_index()\n",
    "lowsalt_upstream.columns = ['second_order_cell_ID', 'num_upstream_lowsalt_cells']\n",
    "\n",
    "lowsalt_labels2 = pd.merge(lowsalt_labels, lowsalt_upstream, on = 'second_order_cell_ID')\n",
    "lowsalt_labels2 = pd.merge(lowsalt_labels2, cells_upstream, on = 'second_order_cell_ID', how = 'inner')\n",
    "\n",
    "#LOWSALT_LABELS2"
   ]
  },
  {
   "cell_type": "code",
   "execution_count": null,
   "metadata": {},
   "outputs": [],
   "source": [
    "# This funtion will output second order cells and their input/output synapses\n",
    "\n",
    "def function(result, taste_neurons, neuron_downstream, name):\n",
    "    merge = pd.merge(result, taste_neurons['root_id'], left_on = 'pre_root_id', right_on = 'root_id', how = 'inner')\n",
    "    merge = merge.drop(columns='root_id')\n",
    "    merge2 = pd.merge(merge, neuron_downstream, left_on = 'post_root_id', right_on = 'root_id', how = 'inner')\n",
    "    connections = merge2.groupby('post_root_id')['syn_count'].sum().reset_index()\n",
    "    labels = pd.merge(connections, neuron_downstream,left_on = 'post_root_id', right_on = 'root_id', how = 'inner')\n",
    "    labels = labels.drop(columns = 'root_id')\n",
    "    labels.rename(columns={'input_synapses': 'total_#_input_synapses','syn_count':'#_input_' + name + '_synapses','post_root_id':'second_order_cell_ID'}, inplace=True)\n",
    "    labels['% input from ' + name + ' GRNs'] = labels['#_input_' + name + '_synapses'] / labels['total_#_input_synapses'] * 100\n",
    "    labels = labels.sort_values(by = '% input from ' + name + ' GRNs', ascending = False)\n",
    "    return labels"
   ]
  },
  {
   "cell_type": "code",
   "execution_count": null,
   "metadata": {},
   "outputs": [],
   "source": [
    "# Second order cells and their input/output synapses\n",
    "\n",
    "sugar_data = function(results, sugar_neurons, sugar_downstream, \"sugar\")\n",
    "bitter_data = function(results, bitter_neurons, bitter_downstream, \"bitter\")\n",
    "water_data = function(results, water_neurons, water_downstream, \"water\")\n",
    "lowsalt_data = function(results, lowsalt_neurons, lowsalt_downstream, \"lowsalt\")"
   ]
  },
  {
   "attachments": {},
   "cell_type": "markdown",
   "metadata": {},
   "source": [
    "### Looking at the cross-over between modalities within the second-order cells\n",
    "This code will provide information about how many cells are downstream from multiple distinct taste modalities "
   ]
  },
  {
   "cell_type": "code",
   "execution_count": 39,
   "metadata": {},
   "outputs": [],
   "source": [
    "#This function identifies neurons that are classified as both sugar and water second order cells\n",
    "\n",
    "def overlap(neuron_data1, neuron_data2, taste1, taste2):\n",
    "    merge = pd.merge(neuron_data1[['second_order_cell_ID', 'label','#_input_' + taste1 + '_synapses', '% input from ' + taste1 + ' GRNs']], neuron_data2[['second_order_cell_ID', '#_input_' + taste2 + '_synapses','% input from ' + taste2 + ' GRNs','total_#_input_synapses']], on= 'second_order_cell_ID', how = 'inner')\n",
    "    return merge"
   ]
  },
  {
   "cell_type": "code",
   "execution_count": 131,
   "metadata": {},
   "outputs": [],
   "source": [
    "# The neurons that receive input from multiple taste modalities \n",
    "\n",
    "sugarwater = overlap(sugar_data, water_data, \"sugar\", \"water\")\n",
    "sugarbitter = overlap(sugar_data, bitter_data, \"sugar\", \"bitter\")\n",
    "waterbitter = overlap(water_data, bitter_data, \"water\", \"bitter\")\n",
    "sugarlowsalt = overlap(sugar_data, lowsalt_data, \"sugar\", \"lowsalt\")\n",
    "waterlowsalt =  overlap(water_data, lowsalt_data, \"water\", \"lowsalt\")\n",
    "lowsaltbitter = overlap(lowsalt_data, bitter_data, \"lowsalt\", \"bitter\")"
   ]
  },
  {
   "cell_type": "code",
   "execution_count": 144,
   "metadata": {},
   "outputs": [
    {
     "data": {
      "image/png": "[encoded data removed]",
      "text/plain": [
       "<Figure size 1000x800 with 4 Axes>"
      ]
     },
     "metadata": {},
     "output_type": "display_data"
    }
   ],
   "source": [
    "#Creating a venn diagram to display the crossover between the four taste modalities \n",
    "\n",
    "sugar = set(sugar_downstream['root_id'])\n",
    "water = set(water_downstream['root_id'])\n",
    "bitter = set(bitter_downstream['root_id'])\n",
    "lowsalt = set(lowsalt_downstream['root_id'])\n",
    "\n",
    "size_sugar = len(sugar)\n",
    "size_water = len(water)\n",
    "size_bitter = len(bitter)\n",
    "size_lowsalt = len(lowsalt)\n",
    "overlap_sugarwater = len(sugar.intersection(water))\n",
    "overlap_sugarbitter = len(sugar.intersection(bitter))\n",
    "overlap_sugarlowsalt = len(sugar.intersection(lowsalt))\n",
    "overlap_waterbitter = len(water.intersection(bitter))\n",
    "overlap_waterlowsalt = len(water.intersection(lowsalt))\n",
    "overlap_bitterlowsalt = len(bitter.intersection(lowsalt))\n",
    "overlap_sugarwaterbitter = len(sugar.intersection(water).intersection(bitter))\n",
    "overlap_sugarbitterlowsalt = len(sugar.intersection(bitter).intersection(lowsalt))\n",
    "overlap_sugarwaterlowsalt = len(sugar.intersection(water).intersection(lowsalt))\n",
    "overlap_waterbitterlowsalt = len(water.intersection(bitter).intersection(lowsalt))\n",
    "\n",
    "\n",
    "fig, axes = plt.subplots(nrows=2, ncols=2, figsize=(10, 8))\n",
    "\n",
    "venn3(subsets=(size_sugar, size_water, overlap_sugarwater, size_bitter, overlap_sugarbitter, overlap_waterbitter, overlap_sugarwaterbitter),\n",
    "             set_labels=('Sugar', 'Water', 'Bitter'),\n",
    "             ax=axes[0, 0])\n",
    "\n",
    "venn3(subsets=(size_sugar, size_water, overlap_sugarwater, size_lowsalt, overlap_sugarlowsalt, overlap_waterlowsalt, overlap_sugarwaterlowsalt),\n",
    "             set_labels=('Sugar', 'Water', 'Lowsalt'),\n",
    "             ax=axes[0, 1])\n",
    "\n",
    "venn3(subsets=(size_sugar, size_bitter, overlap_sugarbitter, size_lowsalt, overlap_sugarlowsalt, overlap_bitterlowsalt, overlap_sugarbitterlowsalt),\n",
    "             set_labels=('Sugar', 'Bitter', 'Lowsalt'),\n",
    "             ax=axes[1, 0])\n",
    "\n",
    "venn3(subsets=(size_water, size_bitter, overlap_waterbitter, size_lowsalt, overlap_waterlowsalt, overlap_bitterlowsalt, overlap_waterbitterlowsalt),\n",
    "             set_labels=('Water', 'Bitter', 'Lowsalt'),\n",
    "             ax=axes[1, 1])\n",
    "plt.show()"
   ]
  },
  {
   "cell_type": "code",
   "execution_count": 129,
   "metadata": {},
   "outputs": [],
   "source": [
    "# Creating a function that tracks the input\n",
    "\n",
    "def overlap(neuron_data1, neuron_data2, taste1, taste2):\n",
    "    merge = pd.merge(neuron_data1[['second_order_cell_ID', 'label','#_input_' + taste1 + '_synapses', '% input from ' + taste1 + ' GRNs']], neuron_data2[['second_order_cell_ID', '#_input_' + taste2 + '_synapses','% input from ' + taste2 + ' GRNs','total_#_input_synapses']], on= 'second_order_cell_ID', how = 'inner')\n",
    "    return merge"
   ]
  },
  {
   "attachments": {},
   "cell_type": "markdown",
   "metadata": {},
   "source": [
    "### Looking at the location of projections for second order cells in all modalities "
   ]
  },
  {
   "cell_type": "code",
   "execution_count": 104,
   "metadata": {},
   "outputs": [],
   "source": [
    "# This function classifies neurons as local or non-local based on whether they have one or more \n",
    "# connections outside of the SEZ\n",
    "# THRESHOLD ????\n",
    "\n",
    "def classify(taste_third_order):\n",
    "    classification = pd.DataFrame(columns = ['second_order_cell_ID', 'projection','#_of_external_projections'])\n",
    "    unique_values = taste_third_order['second_order_cell_ID'].unique()\n",
    "    for entry in unique_values:\n",
    "        if all(taste_third_order[taste_third_order['second_order_cell_ID'] == entry]['location_of_connection'] == 'local'):\n",
    "            x = pd.DataFrame({'second_order_cell_ID': [entry], 'projection':'local','#_of_external_projections':(taste_third_order[taste_third_order['second_order_cell_ID'] == entry]['location_of_connection'] == 'outside SEZ').sum()})\n",
    "            classification = pd.concat([classification,x])\n",
    "        else:\n",
    "            x = pd.DataFrame({'second_order_cell_ID': [entry], 'projection':'outside SEZ','#_of_external_projections':(taste_third_order[taste_third_order['second_order_cell_ID'] == entry]['location_of_connection'] == 'outside SEZ').sum()})\n",
    "            classification = pd.concat([classification,x])\n",
    "    return classification"
   ]
  },
  {
   "cell_type": "code",
   "execution_count": 108,
   "metadata": {},
   "outputs": [],
   "source": [
    "# Outputs second order cells and their classification of local/outside SEZ and their number\n",
    "# of external projections\n",
    "\n",
    "sugar_second_order_projection = classify(sugar_third_order)\n",
    "bitter_second_order_projection = classify(bitter_third_order)\n",
    "water_second_order_projection = classify(water_third_order)\n",
    "lowsalt_second_order_projection = classify(lowsalt_third_order)"
   ]
  },
  {
   "cell_type": "code",
   "execution_count": null,
   "metadata": {},
   "outputs": [],
   "source": [
    "# Pie chart of the location of ACH connections for second order sugar neurons\n",
    "\n",
    "labels = ['GNG', 'PRW', 'FLA_R', 'FLA_L', 'SAD', 'LH_L', 'SLP_L', 'SCL_L', 'PVLP_L', 'SIP_L', 'SMP_L', 'MB_VL_L', 'VES_L']\n",
    "sizes = [len(sugar_third_order[(sugar_third_order['nt_type'] == 'ACH') & (sugar_third_order['neuropil'] == 'GNG')]),len(sugar_third_order[(sugar_third_order['nt_type'] == 'ACH') & (sugar_third_order['neuropil'] == 'PRW')]),\n",
    "len(sugar_third_order[(sugar_third_order['nt_type'] == 'ACH') & (sugar_third_order['neuropil'] == 'FLA_R')]),len(sugar_third_order[(sugar_third_order['nt_type'] == 'ACH') & (sugar_third_order['neuropil'] == 'FLA_L')]),\n",
    "len(sugar_third_order[(sugar_third_order['nt_type'] == 'ACH') & (sugar_third_order['neuropil'] == 'SAD')]),len(sugar_third_order[(sugar_third_order['nt_type'] == 'ACH') & (sugar_third_order['neuropil'] == 'LH_L')]),\n",
    "len(sugar_third_order[(sugar_third_order['nt_type'] == 'ACH') & (sugar_third_order['neuropil'] == 'SLP_L')]),len(sugar_third_order[(sugar_third_order['nt_type'] == 'ACH') & (sugar_third_order['neuropil'] == 'SCL_L')]),\n",
    "len(sugar_third_order[(sugar_third_order['nt_type'] == 'ACH') & (sugar_third_order['neuropil'] == 'PVLP_L')]),len(sugar_third_order[(sugar_third_order['nt_type'] == 'ACH') & (sugar_third_order['neuropil'] == 'SIP_L')]),\n",
    "len(sugar_third_order[(sugar_third_order['nt_type'] == 'ACH') & (sugar_third_order['neuropil'] == 'SMP_L')]),len(sugar_third_order[(sugar_third_order['nt_type'] == 'ACH') & (sugar_third_order['neuropil'] == 'MB_VL_L')]),\n",
    "len(sugar_third_order[(sugar_third_order['nt_type'] == 'ACH') & (sugar_third_order['neuropil'] == 'VES_L')])]\n",
    "plt.pie(sizes, labels = labels, autopct='%1.1f%%', startangle=140)\n",
    "plt.title('Locations of ACH Connections for Sugar')\n",
    "plt.axis('equal')\n",
    "plt.show()"
   ]
  },
  {
   "cell_type": "code",
   "execution_count": null,
   "metadata": {},
   "outputs": [],
   "source": [
    "# Pie chart of the location of all NT connections for second order sugar neurons\n",
    "\n",
    "labels = ['GNG', 'PRW', 'FLA_R', 'FLA_L', 'SAD', 'LH_L', 'SLP_L', 'SCL_L', \n",
    "            'PVLP_L', 'SIP_L', 'SMP_L', 'MB_VL_L', 'VES_L']\n",
    "sizes = [len(sugar_third_order[sugar_third_order['neuropil'] == 'GNG']),len(sugar_third_order[sugar_third_order['neuropil'] == 'PRW']),len(sugar_third_order[sugar_third_order['neuropil'] == 'FLA_R']),\n",
    "len(sugar_third_order[sugar_third_order['neuropil'] == 'FLA_L']),len(sugar_third_order[sugar_third_order['neuropil'] == 'SAD']),len(sugar_third_order[sugar_third_order['neuropil'] == 'LH_L']),\n",
    "len(sugar_third_order[sugar_third_order['neuropil'] == 'SLP_L']),len(sugar_third_order[sugar_third_order['neuropil'] == 'SCL_L']),len(sugar_third_order[sugar_third_order['neuropil'] == 'PVLP_L']),\n",
    "len(sugar_third_order[sugar_third_order['neuropil'] == 'SIP_L']),len(sugar_third_order[sugar_third_order['neuropil'] == 'SMP_L']),len(sugar_third_order[sugar_third_order['neuropil'] == 'MB_VL_L']),\n",
    "len(sugar_third_order[sugar_third_order['neuropil'] == 'VES_L']),]\n",
    "plt.pie(sizes, labels = labels, autopct='%1.1f%%', startangle=140)\n",
    "plt.title('Locations of Connections for Sugar')\n",
    "plt.axis('equal')\n",
    "plt.show()"
   ]
  },
  {
   "cell_type": "code",
   "execution_count": null,
   "metadata": {},
   "outputs": [],
   "source": [
    "# Pie chart of the location of ACH connections for second order bitter neurons\n",
    "\n",
    "labels = ['GNG', 'PRW', 'FLA_R', 'FLA_L', 'SAD', 'LH_L', 'SLP_L', 'SCL_L', \n",
    "            'PVLP_L', 'SIP_L', 'SMP_L','AVLP_L','MB_PED_L','AL_L','MB_CA_L','SLP_R','SIP_R']\n",
    "sizes = [len(sugar_third_order[(sugar_third_order['nt_type'] == 'ACH') & (sugar_third_order['neuropil'] == 'GNG')]),len(sugar_third_order[(sugar_third_order['nt_type'] == 'ACH') & (sugar_third_order['neuropil'] == 'PRW')]),\n",
    "len(sugar_third_order[(sugar_third_order['nt_type'] == 'ACH') & (sugar_third_order['neuropil'] == 'FLA_R')]),len(sugar_third_order[(sugar_third_order['nt_type'] == 'ACH') & (sugar_third_order['neuropil'] == 'FLA_L')]),\n",
    "len(sugar_third_order[(sugar_third_order['nt_type'] == 'ACH') & (sugar_third_order['neuropil'] == 'SAD')]),len(sugar_third_order[(sugar_third_order['nt_type'] == 'ACH') & (sugar_third_order['neuropil'] == 'LH_L')]),\n",
    "len(sugar_third_order[(sugar_third_order['nt_type'] == 'ACH') & (sugar_third_order['neuropil'] == 'SLP_L')]),len(sugar_third_order[(sugar_third_order['nt_type'] == 'ACH') & (sugar_third_order['neuropil'] == 'SCL_L')]),\n",
    "len(sugar_third_order[(sugar_third_order['nt_type'] == 'ACH') & (sugar_third_order['neuropil'] == 'PVLP_L')]),len(sugar_third_order[(sugar_third_order['nt_type'] == 'ACH') & (sugar_third_order['neuropil'] == 'SIP_L')]),\n",
    "len(sugar_third_order[(sugar_third_order['nt_type'] == 'ACH') & (sugar_third_order['neuropil'] == 'SMP_L')]),len(sugar_third_order[(sugar_third_order['nt_type'] == 'ACH') & (sugar_third_order['neuropil'] == 'AVLP_L')]),\n",
    "len(sugar_third_order[(sugar_third_order['nt_type'] == 'ACH') & (sugar_third_order['neuropil'] == 'MB_PED_L')]),len(sugar_third_order[(sugar_third_order['nt_type'] == 'ACH') & (sugar_third_order['neuropil'] == 'AL_L')]),\n",
    "len(sugar_third_order[(sugar_third_order['nt_type'] == 'ACH') & (sugar_third_order['neuropil'] == 'MB_CA_L')]),len(sugar_third_order[(sugar_third_order['nt_type'] == 'ACH') & (sugar_third_order['neuropil'] == 'SLP_R')]),\n",
    "len(sugar_third_order[(sugar_third_order['nt_type'] == 'ACH') & (sugar_third_order['neuropil'] == 'SIP_R')])]\n",
    "plt.pie(sizes, labels = labels, autopct='%1.1f%%', startangle=140)\n",
    "plt.title('Locations of ACH Connections for Bitter')\n",
    "plt.axis('equal')\n",
    "plt.show()"
   ]
  },
  {
   "cell_type": "code",
   "execution_count": null,
   "metadata": {},
   "outputs": [],
   "source": [
    "# Pie chart of the location of all NT connections for second order bitter neurons\n",
    "\n",
    "labels = ['GNG', 'PRW', 'FLA_R', 'FLA_L', 'SAD', 'LH_L', 'SLP_L', 'SCL_L', \n",
    "            'PVLP_L', 'SIP_L', 'SMP_L','AVLP_L','MB_PED_L','AL_L','MB_CA_L','SLP_R','SIP_R']\n",
    "sizes = [len(bitter_third_order[bitter_third_order['neuropil'] == 'GNG']),len(bitter_third_order[bitter_third_order['neuropil'] == 'PRW']),len(bitter_third_order[bitter_third_order['neuropil'] == 'FLA_R']),\n",
    "len(bitter_third_order[bitter_third_order['neuropil'] == 'FLA_L']),len(bitter_third_order[bitter_third_order['neuropil'] == 'SAD']),len(bitter_third_order[bitter_third_order['neuropil'] == 'LH_L']),\n",
    "len(bitter_third_order[bitter_third_order['neuropil'] == 'SLP_L']),len(bitter_third_order[bitter_third_order['neuropil'] == 'SCL_L']),len(bitter_third_order[bitter_third_order['neuropil'] == 'PVLP_L']),\n",
    "len(bitter_third_order[bitter_third_order['neuropil'] == 'SIP_L']),len(bitter_third_order[bitter_third_order['neuropil'] == 'SMP_L']),len(bitter_third_order[bitter_third_order['neuropil'] == 'AVLP_L']),\n",
    "len(bitter_third_order[bitter_third_order['neuropil'] == 'MB_PED_L']),len(bitter_third_order[bitter_third_order['neuropil'] == 'AL_L']),len(bitter_third_order[bitter_third_order['neuropil'] == 'MB_CA_L']),\n",
    "len(bitter_third_order[bitter_third_order['neuropil'] == 'SLP_R']),len(bitter_third_order[bitter_third_order['neuropil'] == 'SIP_R'])]\n",
    "plt.pie(sizes, labels = labels, autopct='%1.1f%%', startangle=140)\n",
    "plt.title('Location of Connections for Bitter')\n",
    "plt.axis('equal')\n",
    "plt.show()"
   ]
  },
  {
   "cell_type": "code",
   "execution_count": null,
   "metadata": {},
   "outputs": [],
   "source": [
    "# Pie chart of the location of ACH connections for second order water neurons\n",
    "\n",
    "labels = ['GNG', 'PRW', 'FLA_R', 'FLA_L', 'SAD', 'LH_L', 'SLP_L', 'SCL_L', \n",
    "            'PVLP_L','AL_L','MB_CA_L','VES_L','PLP_L']\n",
    "sizes = [len(sugar_third_order[(sugar_third_order['nt_type'] == 'ACH') & (sugar_third_order['neuropil'] == 'GNG')]),len(sugar_third_order[(sugar_third_order['nt_type'] == 'ACH') & (sugar_third_order['neuropil'] == 'PRW')]),\n",
    "len(sugar_third_order[(sugar_third_order['nt_type'] == 'ACH') & (sugar_third_order['neuropil'] == 'FLA_R')]),len(sugar_third_order[(sugar_third_order['nt_type'] == 'ACH') & (sugar_third_order['neuropil'] == 'FLA_L')]),\n",
    "len(sugar_third_order[(sugar_third_order['nt_type'] == 'ACH') & (sugar_third_order['neuropil'] == 'SAD')]),len(sugar_third_order[(sugar_third_order['nt_type'] == 'ACH') & (sugar_third_order['neuropil'] == 'LH_L')]),\n",
    "len(sugar_third_order[(sugar_third_order['nt_type'] == 'ACH') & (sugar_third_order['neuropil'] == 'SLP_L')]),len(sugar_third_order[(sugar_third_order['nt_type'] == 'ACH') & (sugar_third_order['neuropil'] == 'SCL_L')]),\n",
    "len(sugar_third_order[(sugar_third_order['nt_type'] == 'ACH') & (sugar_third_order['neuropil'] == 'PVLP_L')]),len(sugar_third_order[(sugar_third_order['nt_type'] == 'ACH') & (sugar_third_order['neuropil'] == 'AL_L')]),\n",
    "len(sugar_third_order[(sugar_third_order['nt_type'] == 'ACH') & (sugar_third_order['neuropil'] == 'MB_CA_L')]),\n",
    "len(sugar_third_order[(sugar_third_order['nt_type'] == 'ACH') & (sugar_third_order['neuropil'] == 'VES_L')]),len(sugar_third_order[(sugar_third_order['nt_type'] == 'ACH') & (sugar_third_order['neuropil'] == 'PLP_L')])]\n",
    "plt.pie(sizes, labels = labels, autopct='%1.1f%%', startangle=140)\n",
    "plt.title('Location of ACH Connections for Water')\n",
    "plt.axis('equal')\n",
    "plt.show()\n"
   ]
  },
  {
   "cell_type": "code",
   "execution_count": null,
   "metadata": {},
   "outputs": [],
   "source": [
    "# Pie chart of the location of all NT connections for second order water neurons\n",
    "\n",
    "labels = ['GNG', 'PRW', 'FLA_R', 'FLA_L', 'SAD', 'LH_L', 'SLP_L', 'SCL_L', \n",
    "            'PVLP_L','AL_L','MB_CA_L','VES_L','PLP_L']\n",
    "sizes = [len(bitter_third_order[bitter_third_order['neuropil'] == 'GNG']),len(bitter_third_order[bitter_third_order['neuropil'] == 'PRW']),len(bitter_third_order[bitter_third_order['neuropil'] == 'FLA_R']),\n",
    "len(bitter_third_order[bitter_third_order['neuropil'] == 'FLA_L']),len(bitter_third_order[bitter_third_order['neuropil'] == 'SAD']),len(bitter_third_order[bitter_third_order['neuropil'] == 'LH_L']),\n",
    "len(bitter_third_order[bitter_third_order['neuropil'] == 'SLP_L']),len(bitter_third_order[bitter_third_order['neuropil'] == 'SCL_L']),len(bitter_third_order[bitter_third_order['neuropil'] == 'PVLP_L']),\n",
    "len(bitter_third_order[bitter_third_order['neuropil'] == 'AL_L']),len(bitter_third_order[bitter_third_order['neuropil'] == 'MB_CA_L']),\n",
    "len(bitter_third_order[bitter_third_order['neuropil'] == 'VES_L']),len(bitter_third_order[bitter_third_order['neuropil'] == 'PLP_L']),]\n",
    "plt.pie(sizes, labels = labels, autopct='%1.1f%%', startangle=140)\n",
    "plt.title('Location of Connections for Water')\n",
    "plt.axis('equal')\n",
    "plt.show()"
   ]
  },
  {
   "cell_type": "code",
   "execution_count": null,
   "metadata": {},
   "outputs": [],
   "source": [
    "# Pie chart of the location of ACH connections for second order IR94e neurons\n",
    "\n",
    "labels = ['GNG', 'PRW', 'FLA_R', 'FLA_L','SAD', 'LH_L', 'SLP_L', 'SCL_L', \n",
    "             'SIP_L', 'SMP_L','AVLP_L','SLP_R','LH_R','VES_L']\n",
    "\n",
    "sizes = [len(sugar_third_order[(sugar_third_order['nt_type'] == 'ACH') & (sugar_third_order['neuropil'] == 'GNG')]),len(sugar_third_order[(sugar_third_order['nt_type'] == 'ACH') & (sugar_third_order['neuropil'] == 'PRW')]),\n",
    "len(sugar_third_order[(sugar_third_order['nt_type'] == 'ACH') & (sugar_third_order['neuropil'] == 'FLA_R')]),len(sugar_third_order[(sugar_third_order['nt_type'] == 'ACH') & (sugar_third_order['neuropil'] == 'FLA_L')]),\n",
    "len(sugar_third_order[(sugar_third_order['nt_type'] == 'ACH') & (sugar_third_order['neuropil'] == 'SAD')]),len(sugar_third_order[(sugar_third_order['nt_type'] == 'ACH') & (sugar_third_order['neuropil'] == 'LH_L')]),\n",
    "len(sugar_third_order[(sugar_third_order['nt_type'] == 'ACH') & (sugar_third_order['neuropil'] == 'SLP_L')]),len(sugar_third_order[(sugar_third_order['nt_type'] == 'ACH') & (sugar_third_order['neuropil'] == 'SCL_L')]),\n",
    "len(sugar_third_order[(sugar_third_order['nt_type'] == 'ACH') & (sugar_third_order['neuropil'] == 'SIP_L')]),\n",
    "len(sugar_third_order[(sugar_third_order['nt_type'] == 'ACH') & (sugar_third_order['neuropil'] == 'SMP_L')]),len(sugar_third_order[(sugar_third_order['nt_type'] == 'ACH') & (sugar_third_order['neuropil'] == 'AVLP_L')]),\n",
    "len(sugar_third_order[(sugar_third_order['nt_type'] == 'ACH') & (sugar_third_order['neuropil'] == 'SLP_R')]),\n",
    "len(sugar_third_order[(sugar_third_order['nt_type'] == 'ACH') & (sugar_third_order['neuropil'] == 'LH_R')]),len(sugar_third_order[(sugar_third_order['nt_type'] == 'ACH') & (sugar_third_order['neuropil'] == 'VES_L')])]\n",
    "plt.pie(sizes, labels = labels, autopct='%1.1f%%', startangle=140)\n",
    "plt.title('Location of ACH Connections for Lowsalt')\n",
    "plt.axis('equal')\n",
    "plt.show()"
   ]
  },
  {
   "cell_type": "code",
   "execution_count": null,
   "metadata": {},
   "outputs": [],
   "source": [
    "# Pie chart of the location of all NT connections for second order IR94e neurons\n",
    "\n",
    "labels = ['GNG', 'PRW', 'FLA_R', 'FLA_L','SAD', 'LH_L', 'SLP_L', 'SCL_L', \n",
    "             'SIP_L', 'SMP_L','AVLP_L','SLP_R','LH_R','VES_L']\n",
    "\n",
    "sizes = [len(bitter_third_order[bitter_third_order['neuropil'] == 'GNG']),len(bitter_third_order[bitter_third_order['neuropil'] == 'PRW']),len(bitter_third_order[bitter_third_order['neuropil'] == 'FLA_R']),\n",
    "len(bitter_third_order[bitter_third_order['neuropil'] == 'FLA_L']),len(bitter_third_order[bitter_third_order['neuropil'] == 'SAD']),len(bitter_third_order[bitter_third_order['neuropil'] == 'LH_L']),\n",
    "len(bitter_third_order[bitter_third_order['neuropil'] == 'SLP_L']),len(bitter_third_order[bitter_third_order['neuropil'] == 'SCL_L']),len(bitter_third_order[bitter_third_order['neuropil'] == 'SIP_L']),\n",
    "len(bitter_third_order[bitter_third_order['neuropil'] == 'SMP_L']),len(bitter_third_order[bitter_third_order['neuropil'] == 'AVLP_L']),\n",
    "len(bitter_third_order[bitter_third_order['neuropil'] == 'SLP_R']),len(bitter_third_order[bitter_third_order['neuropil'] == 'LH_R']),len(bitter_third_order[bitter_third_order['neuropil'] == 'VES_L'])]\n",
    "plt.pie(sizes, labels = labels, autopct='%1.1f%%', startangle=140)\n",
    "plt.title('Location of Connections for Lowsalt')\n",
    "plt.axis('equal')\n",
    "plt.show()"
   ]
  },
  {
   "cell_type": "code",
   "execution_count": null,
   "metadata": {},
   "outputs": [],
   "source": [
    "# Classifying second order to third order connections based on where within the connectome they're located\n",
    "# This funciton outputs a pie chart of the NT types for local connections\n",
    "\n",
    "def local_NTs(taste_third_order):\n",
    "    local = taste_third_order[taste_third_order['location_of_connection'] == 'local']\n",
    "    labels = ['ACH','GLUT','GABA','SER','DA']\n",
    "    sizes = [len(local[local['nt_type'] == 'ACH']), len(local[local['nt_type'] == 'GLUT']), len(local[local['nt_type'] == 'GABA']), len(local[local['nt_type'] == 'SER']), len(local[local['nt_type'] == 'SER'])]\n",
    "    plt.pie(sizes, labels = labels, autopct='%1.1f%%', startangle=140)\n",
    "    plt.title('NT types for local connections')\n",
    "    plt.axis('equal')\n",
    "    plt.show()\n",
    "\n",
    "# This funciton outputs a pie chart of the NT types for non-local connections\n",
    "\n",
    "def nonlocal_NTs(taste_third_order):\n",
    "    local = taste_third_order[taste_third_order['location_of_connection'] == 'outside SEZ']\n",
    "    labels = ['ACH','GLUT','GABA','SER','DA']\n",
    "    sizes = [len(local[local['nt_type'] == 'ACH']), len(local[local['nt_type'] == 'GLUT']), len(local[local['nt_type'] == 'GABA']), len(local[local['nt_type'] == 'SER']), len(local[local['nt_type'] == 'SER'])]\n",
    "    plt.pie(sizes, labels = labels, autopct='%1.1f%%', startangle=140)\n",
    "    plt.title('NT types for non-local connections')\n",
    "    plt.axis('equal')\n",
    "    plt.show()"
   ]
  },
  {
   "attachments": {},
   "cell_type": "markdown",
   "metadata": {},
   "source": [
    "### Looking at third order cells for IR94e modality\n",
    "This code identifies the third order IR94e cells and tells us whether their synapse connections to second order IR94e cells are within the SEZ"
   ]
  },
  {
   "cell_type": "code",
   "execution_count": 60,
   "metadata": {},
   "outputs": [],
   "source": [
    "# Creating a funtion to classify whether connections are within or outside of the SEZ\n",
    "\n",
    "def projection(neuropil):\n",
    "    if neuropil == 'GNG':\n",
    "        return 'local'\n",
    "    else:\n",
    "        return 'outside SEZ'"
   ]
  },
  {
   "cell_type": "code",
   "execution_count": 62,
   "metadata": {},
   "outputs": [],
   "source": [
    "# Second to third order connections for IR94e\n",
    "\n",
    "third_order_connections = (pd.merge(lowsalt_labels2[['second_order_cell_ID','label']], connections, left_on='second_order_cell_ID', right_on='pre_root_id', how = 'inner').query(\"syn_count >=5\"))\n",
    "third_order_connections['projection'] = third_order_connections['neuropil'].apply(projection)\n",
    "third_order_connections = third_order_connections.drop(columns=['pre_root_id'])\n",
    "third_order_connections = third_order_connections.rename(columns={'post_root_id':'third_order_cell_ID','label':'second_order_cell_label'})"
   ]
  },
  {
   "attachments": {},
   "cell_type": "markdown",
   "metadata": {},
   "source": [
    "### Identifying third order neurons for all modalities\n",
    "\n",
    "This code will provide information about third order order GRNs and their\n",
    "- second order cells their connected to \n",
    "- the synapse count for each connection\n",
    "- the neurotransmitter type involved in each connection\n",
    "- the location of each connection \n",
    "- the number of upstream second order cells\n",
    "- the variation in NT type for upstream connections\n",
    "\n",
    "Threshold for a neuron to be identified as third order: 5 synapses\n"
   ]
  },
  {
   "cell_type": "code",
   "execution_count": 66,
   "metadata": {},
   "outputs": [],
   "source": [
    "# This function will output second to third order connections, synapse count and their location\n",
    "# Minimum number of synapses = 5\n",
    "\n",
    "def third_order(neuron_data, connection_dataset,taste_neurons):\n",
    "    for entry in neuron_data['second_order_cell_ID']:\n",
    "        if entry in sugar_neurons['root_id']:\n",
    "            pass\n",
    "        else:\n",
    "            merge = pd.merge(neuron_data[['second_order_cell_ID','label']], connections, left_on='second_order_cell_ID', right_on='pre_root_id', how = 'inner').query(\"syn_count >=5\")\n",
    "        merge = merge.drop(columns = 'pre_root_id')\n",
    "        merge = merge.rename(columns={'post_root_id':'third_order_cell_ID','label':'second_order_cell_label'})\n",
    "        def projection(neuropil):\n",
    "            if neuropil == 'GNG':\n",
    "                return 'local'\n",
    "            else: \n",
    "                return 'outside SEZ'\n",
    "        merge['location_of_connection'] = merge['neuropil'].apply(projection)\n",
    "        return merge"
   ]
  },
  {
   "cell_type": "code",
   "execution_count": 76,
   "metadata": {},
   "outputs": [],
   "source": [
    "# Second to third order connections, synapse count and their location\n",
    "\n",
    "sugar_third_order = third_order(sugar_data, connections, sugar_neurons)\n",
    "bitter_third_order = third_order(bitter_data, connections, bitter_neurons)\n",
    "water_third_order = third_order(water_data, connections, water_neurons)\n",
    "lowsalt_third_order = third_order(lowsalt_data, connections, lowsalt_neurons)"
   ]
  },
  {
   "cell_type": "code",
   "execution_count": 98,
   "metadata": {},
   "outputs": [],
   "source": [
    "# this function returns the number of cells upstream from each third order and for all of their connections\n",
    "# the % input they're receiving from the top NT\n",
    "\n",
    "def upstream_cells(taste_third_order):\n",
    "    cells = pd.DataFrame(columns = ['third_order_cell_ID','#_upstream_cells','% input of top NT'])\n",
    "    unique_values = taste_third_order['third_order_cell_ID'].unique()\n",
    "    for entry in unique_values:\n",
    "        x = pd.DataFrame({'third_order_cell_ID' : [entry], '#_upstream_cells' : len(taste_third_order[taste_third_order['third_order_cell_ID'] == entry ]['second_order_cell_ID'].unique()),\n",
    "        '% input of top NT': max(taste_third_order[taste_third_order['third_order_cell_ID'] == entry]['nt_type'].value_counts())/sum(taste_third_order[taste_third_order['third_order_cell_ID'] == entry]['nt_type'].value_counts())\n",
    "})\n",
    "        cells = pd.concat([cells,x])\n",
    "    return cells      \n",
    "\n",
    "sugar3N_upstream_cells = upstream_cells(sugar_third_order)\n",
    "bitter3N_upstream_cells = upstream_cells(bitter_third_order)\n",
    "water3N_upstream_cells = upstream_cells(water_third_order)\n",
    "lowsalt3N_upstream_cells = upstream_cells(lowsalt_third_order)"
   ]
  },
  {
   "cell_type": "code",
   "execution_count": null,
   "metadata": {},
   "outputs": [],
   "source": [
    "# This creates a bar graph of whether all of the connections to a third order cell involves \n",
    "# one NT type or multiple\n",
    "\n",
    "data = lowsalt3N_upstream_cells[lowsalt3N_upstream_cells['#_upstream_cells'] != 1]['% input of top NT'] \n",
    "\n",
    "num_bins = 15\n",
    "bins = np.linspace(min(data), max(data), num_bins + 1)\n",
    "frequencies, bin_edges = np.histogram(data, bins)\n",
    "bin_labels = [(bins[i] + bins[i+1]) / 2 for i in range(len(bins)-1)]\n",
    "plt.bar(bin_labels, frequencies, width=(max(data) - min(data)) / num_bins * 0.8, align='center')\n",
    "plt.xlabel('Percent Input from top NT')\n",
    "plt.ylabel('Frequency')\n",
    "plt.title('Variation in NTs from Upstream Cells, Lowsalt')\n",
    "plt.show()"
   ]
  }
 ],
 "metadata": {
  "kernelspec": {
   "display_name": "base",
   "language": "python",
   "name": "python3"
  },
  "language_info": {
   "codemirror_mode": {
    "name": "ipython",
    "version": 3
   },
   "file_extension": ".py",
   "mimetype": "text/x-python",
   "name": "python",
   "nbconvert_exporter": "python",
   "pygments_lexer": "ipython3",
   "version": "3.9.13"
  },
  "orig_nbformat": 4,
  "vscode": {
   "interpreter": {
    "hash": "d8ae924da46794a1cbf88d5e0019ca8ad6dbdd37da8d02e533956f9d1ba25e02"
   }
  }
 },
 "nbformat": 4,
 "nbformat_minor": 2
}
