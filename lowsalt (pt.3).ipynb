{
 "cells": [
  {
   "cell_type": "code",
   "execution_count": 2,
   "metadata": {},
   "outputs": [],
   "source": [
    "import pandas as pd\n",
    "import numpy as np\n",
    "import matplotlib.pyplot as plt"
   ]
  },
  {
   "cell_type": "code",
   "execution_count": 3,
   "metadata": {},
   "outputs": [],
   "source": [
    "neurons = pd.read_csv('/Users/SydneyWalker/Downloads/neurons.csv.gz')\n",
    "connections = pd.read_csv('/Users/SydneyWalker/Downloads/connections.csv.gz')[['pre_root_id','post_root_id','neuropil','syn_count']]\n",
    "lowsalt_neurons = pd.read_csv('/Users/SydneyWalker/Downloads/lowsalt_neurons.csv').query(\"side == 'left'\")[['root_id','label','output_synapses']]"
   ]
  },
  {
   "cell_type": "code",
   "execution_count": 4,
   "metadata": {},
   "outputs": [],
   "source": [
    "lowsalt_downstream = pd.read_csv('/Users/SydneyWalker/Downloads/lowsalt_downstream.csv')[['root_id','label','input_synapses']]"
   ]
  },
  {
   "cell_type": "code",
   "execution_count": 5,
   "metadata": {},
   "outputs": [],
   "source": [
    "result = connections.groupby(['pre_root_id', 'post_root_id','neuropil'])['syn_count'].sum().reset_index()\n",
    "\n",
    "lowsalt_merge = pd.merge(result, lowsalt_neurons['root_id'], left_on = 'pre_root_id', right_on = 'root_id', how = 'inner')\n",
    "lowsalt_merge = lowsalt_merge.drop(columns='root_id')\n",
    "\n",
    "lowsalt_merge2 = pd.merge(lowsalt_merge, lowsalt_downstream, left_on = 'post_root_id', right_on = 'root_id', how = 'inner')\n",
    "lowsalt_connections = lowsalt_merge2.groupby(['post_root_id'])['syn_count'].sum().reset_index()\n",
    "\n",
    "lowsalt_labels = pd.merge(lowsalt_connections, lowsalt_downstream,left_on = 'post_root_id', right_on = 'root_id', how = 'inner')\n",
    "lowsalt_labels = lowsalt_labels.drop(columns = 'root_id')\n",
    "\n",
    "lowsalt_labels.rename(columns={'input_synapses': 'total_num_input_synapses','syn_count':'num_input_lowsalt_synapses','post_root_id':'second_order_cell_ID'}, inplace=True)\n",
    "lowsalt_labels['percent_input_from_lowsalt_GRNs'] = lowsalt_labels['num_input_lowsalt_synapses'] / lowsalt_labels['total_num_input_synapses'] * 100\n",
    "lowsalt_labels = lowsalt_labels.sort_values(by = 'percent_input_from_lowsalt_GRNs', ascending = False)"
   ]
  },
  {
   "cell_type": "code",
   "execution_count": 6,
   "metadata": {},
   "outputs": [],
   "source": [
    "lowsalt_upstream = lowsalt_merge2.groupby('post_root_id')['pre_root_id'].nunique().reset_index()\n",
    "lowsalt_upstream.columns = ['second_order_cell_ID', 'num_upstream_lowsalt_cells']"
   ]
  },
  {
   "cell_type": "code",
   "execution_count": 7,
   "metadata": {},
   "outputs": [],
   "source": [
    "cells_upstream = connections.groupby('post_root_id')['pre_root_id'].nunique().reset_index()\n",
    "cells_upstream.columns = ['second_order_cell_ID', 'num_upstream_cells']"
   ]
  },
  {
   "cell_type": "code",
   "execution_count": 8,
   "metadata": {},
   "outputs": [
    {
     "data": {
      "text/html": [
       "<div>\n",
       "<style scoped>\n",
       "    .dataframe tbody tr th:only-of-type {\n",
       "        vertical-align: middle;\n",
       "    }\n",
       "\n",
       "    .dataframe tbody tr th {\n",
       "        vertical-align: top;\n",
       "    }\n",
       "\n",
       "    .dataframe thead th {\n",
       "        text-align: right;\n",
       "    }\n",
       "</style>\n",
       "<table border=\"1\" class=\"dataframe\">\n",
       "  <thead>\n",
       "    <tr style=\"text-align: right;\">\n",
       "      <th></th>\n",
       "      <th>second_order_cell_ID</th>\n",
       "      <th>num_input_lowsalt_synapses</th>\n",
       "      <th>label</th>\n",
       "      <th>total_num_input_synapses</th>\n",
       "      <th>percent_input_from_lowsalt_GRNs</th>\n",
       "      <th>num_upstream_lowsalt_cells</th>\n",
       "      <th>num_upstream_cells</th>\n",
       "    </tr>\n",
       "  </thead>\n",
       "  <tbody>\n",
       "    <tr>\n",
       "      <th>0</th>\n",
       "      <td>720575940624234254</td>\n",
       "      <td>233</td>\n",
       "      <td>[]</td>\n",
       "      <td>591</td>\n",
       "      <td>39.424704</td>\n",
       "      <td>11</td>\n",
       "      <td>28</td>\n",
       "    </tr>\n",
       "    <tr>\n",
       "      <th>1</th>\n",
       "      <td>720575940631082124</td>\n",
       "      <td>54</td>\n",
       "      <td>['lGRN'; 'Gustatory Receptor Neuron (GRN); Put...</td>\n",
       "      <td>142</td>\n",
       "      <td>38.028169</td>\n",
       "      <td>4</td>\n",
       "      <td>9</td>\n",
       "    </tr>\n",
       "    <tr>\n",
       "      <th>2</th>\n",
       "      <td>720575940621953285</td>\n",
       "      <td>228</td>\n",
       "      <td>['WEDa1_ventral']</td>\n",
       "      <td>673</td>\n",
       "      <td>33.878158</td>\n",
       "      <td>9</td>\n",
       "      <td>28</td>\n",
       "    </tr>\n",
       "  </tbody>\n",
       "</table>\n",
       "</div>"
      ],
      "text/plain": [
       "   second_order_cell_ID  num_input_lowsalt_synapses  \\\n",
       "0    720575940624234254                         233   \n",
       "1    720575940631082124                          54   \n",
       "2    720575940621953285                         228   \n",
       "\n",
       "                                               label  \\\n",
       "0                                                 []   \n",
       "1  ['lGRN'; 'Gustatory Receptor Neuron (GRN); Put...   \n",
       "2                                  ['WEDa1_ventral']   \n",
       "\n",
       "   total_num_input_synapses  percent_input_from_lowsalt_GRNs  \\\n",
       "0                       591                        39.424704   \n",
       "1                       142                        38.028169   \n",
       "2                       673                        33.878158   \n",
       "\n",
       "   num_upstream_lowsalt_cells  num_upstream_cells  \n",
       "0                          11                  28  \n",
       "1                           4                   9  \n",
       "2                           9                  28  "
      ]
     },
     "execution_count": 8,
     "metadata": {},
     "output_type": "execute_result"
    }
   ],
   "source": [
    "lowsalt_labels2 = pd.merge(lowsalt_labels, lowsalt_upstream, on = 'second_order_cell_ID')\n",
    "lowsalt_labels2 = pd.merge(lowsalt_labels2, cells_upstream, on = 'second_order_cell_ID', how = 'inner')\n",
    "lowsalt_labels2[0:3]"
   ]
  },
  {
   "cell_type": "code",
   "execution_count": 9,
   "metadata": {},
   "outputs": [],
   "source": [
    "third_order_connections = (pd.merge(lowsalt_labels2[['second_order_cell_ID','label']], connections, left_on='second_order_cell_ID', right_on='pre_root_id', how = 'inner').query(\"syn_count >=5\"))"
   ]
  },
  {
   "cell_type": "code",
   "execution_count": 11,
   "metadata": {},
   "outputs": [
    {
     "data": {
      "text/html": [
       "<div>\n",
       "<style scoped>\n",
       "    .dataframe tbody tr th:only-of-type {\n",
       "        vertical-align: middle;\n",
       "    }\n",
       "\n",
       "    .dataframe tbody tr th {\n",
       "        vertical-align: top;\n",
       "    }\n",
       "\n",
       "    .dataframe thead th {\n",
       "        text-align: right;\n",
       "    }\n",
       "</style>\n",
       "<table border=\"1\" class=\"dataframe\">\n",
       "  <thead>\n",
       "    <tr style=\"text-align: right;\">\n",
       "      <th></th>\n",
       "      <th>second_order_cell_ID</th>\n",
       "      <th>label</th>\n",
       "      <th>pre_root_id</th>\n",
       "      <th>post_root_id</th>\n",
       "      <th>neuropil</th>\n",
       "      <th>syn_count</th>\n",
       "    </tr>\n",
       "  </thead>\n",
       "  <tbody>\n",
       "    <tr>\n",
       "      <th>0</th>\n",
       "      <td>720575940624234254</td>\n",
       "      <td>[]</td>\n",
       "      <td>720575940624234254</td>\n",
       "      <td>720575940604395436</td>\n",
       "      <td>SLP_L</td>\n",
       "      <td>5</td>\n",
       "    </tr>\n",
       "    <tr>\n",
       "      <th>2</th>\n",
       "      <td>720575940624234254</td>\n",
       "      <td>[]</td>\n",
       "      <td>720575940624234254</td>\n",
       "      <td>720575940604516524</td>\n",
       "      <td>LH_L</td>\n",
       "      <td>6</td>\n",
       "    </tr>\n",
       "    <tr>\n",
       "      <th>3</th>\n",
       "      <td>720575940624234254</td>\n",
       "      <td>[]</td>\n",
       "      <td>720575940624234254</td>\n",
       "      <td>720575940604516524</td>\n",
       "      <td>SLP_L</td>\n",
       "      <td>44</td>\n",
       "    </tr>\n",
       "    <tr>\n",
       "      <th>5</th>\n",
       "      <td>720575940624234254</td>\n",
       "      <td>[]</td>\n",
       "      <td>720575940624234254</td>\n",
       "      <td>720575940604921446</td>\n",
       "      <td>LH_R</td>\n",
       "      <td>13</td>\n",
       "    </tr>\n",
       "    <tr>\n",
       "      <th>9</th>\n",
       "      <td>720575940624234254</td>\n",
       "      <td>[]</td>\n",
       "      <td>720575940624234254</td>\n",
       "      <td>720575940607731292</td>\n",
       "      <td>SLP_L</td>\n",
       "      <td>10</td>\n",
       "    </tr>\n",
       "    <tr>\n",
       "      <th>...</th>\n",
       "      <td>...</td>\n",
       "      <td>...</td>\n",
       "      <td>...</td>\n",
       "      <td>...</td>\n",
       "      <td>...</td>\n",
       "      <td>...</td>\n",
       "    </tr>\n",
       "    <tr>\n",
       "      <th>4158</th>\n",
       "      <td>720575940624600840</td>\n",
       "      <td>['Second-order bitter neuron Scapula (Shiu; St...</td>\n",
       "      <td>720575940624600840</td>\n",
       "      <td>720575940647003188</td>\n",
       "      <td>FLA_L</td>\n",
       "      <td>5</td>\n",
       "    </tr>\n",
       "    <tr>\n",
       "      <th>4159</th>\n",
       "      <td>720575940624600840</td>\n",
       "      <td>['Second-order bitter neuron Scapula (Shiu; St...</td>\n",
       "      <td>720575940624600840</td>\n",
       "      <td>720575940652580086</td>\n",
       "      <td>GNG</td>\n",
       "      <td>9</td>\n",
       "    </tr>\n",
       "    <tr>\n",
       "      <th>4160</th>\n",
       "      <td>720575940624600840</td>\n",
       "      <td>['Second-order bitter neuron Scapula (Shiu; St...</td>\n",
       "      <td>720575940624600840</td>\n",
       "      <td>720575940660223873</td>\n",
       "      <td>PRW</td>\n",
       "      <td>6</td>\n",
       "    </tr>\n",
       "    <tr>\n",
       "      <th>4161</th>\n",
       "      <td>720575940624600840</td>\n",
       "      <td>['Second-order bitter neuron Scapula (Shiu; St...</td>\n",
       "      <td>720575940624600840</td>\n",
       "      <td>720575940660223873</td>\n",
       "      <td>GNG</td>\n",
       "      <td>11</td>\n",
       "    </tr>\n",
       "    <tr>\n",
       "      <th>4162</th>\n",
       "      <td>720575940624600840</td>\n",
       "      <td>['Second-order bitter neuron Scapula (Shiu; St...</td>\n",
       "      <td>720575940624600840</td>\n",
       "      <td>720575940660233601</td>\n",
       "      <td>GNG</td>\n",
       "      <td>5</td>\n",
       "    </tr>\n",
       "  </tbody>\n",
       "</table>\n",
       "<p>2147 rows × 6 columns</p>\n",
       "</div>"
      ],
      "text/plain": [
       "      second_order_cell_ID                                              label  \\\n",
       "0       720575940624234254                                                 []   \n",
       "2       720575940624234254                                                 []   \n",
       "3       720575940624234254                                                 []   \n",
       "5       720575940624234254                                                 []   \n",
       "9       720575940624234254                                                 []   \n",
       "...                    ...                                                ...   \n",
       "4158    720575940624600840  ['Second-order bitter neuron Scapula (Shiu; St...   \n",
       "4159    720575940624600840  ['Second-order bitter neuron Scapula (Shiu; St...   \n",
       "4160    720575940624600840  ['Second-order bitter neuron Scapula (Shiu; St...   \n",
       "4161    720575940624600840  ['Second-order bitter neuron Scapula (Shiu; St...   \n",
       "4162    720575940624600840  ['Second-order bitter neuron Scapula (Shiu; St...   \n",
       "\n",
       "             pre_root_id        post_root_id neuropil  syn_count  \n",
       "0     720575940624234254  720575940604395436    SLP_L          5  \n",
       "2     720575940624234254  720575940604516524     LH_L          6  \n",
       "3     720575940624234254  720575940604516524    SLP_L         44  \n",
       "5     720575940624234254  720575940604921446     LH_R         13  \n",
       "9     720575940624234254  720575940607731292    SLP_L         10  \n",
       "...                  ...                 ...      ...        ...  \n",
       "4158  720575940624600840  720575940647003188    FLA_L          5  \n",
       "4159  720575940624600840  720575940652580086      GNG          9  \n",
       "4160  720575940624600840  720575940660223873      PRW          6  \n",
       "4161  720575940624600840  720575940660223873      GNG         11  \n",
       "4162  720575940624600840  720575940660233601      GNG          5  \n",
       "\n",
       "[2147 rows x 6 columns]"
      ]
     },
     "execution_count": 11,
     "metadata": {},
     "output_type": "execute_result"
    }
   ],
   "source": [
    "third_order_connections"
   ]
  },
  {
   "cell_type": "code",
   "execution_count": 10,
   "metadata": {},
   "outputs": [
    {
     "ename": "NameError",
     "evalue": "name 'stop' is not defined",
     "output_type": "error",
     "traceback": [
      "\u001b[0;31m---------------------------------------------------------------------------\u001b[0m",
      "\u001b[0;31mNameError\u001b[0m                                 Traceback (most recent call last)",
      "\u001b[0;32m/var/folders/qx/pb4kzjds0md1h66brl_wbll80000gn/T/ipykernel_4577/3957423419.py\u001b[0m in \u001b[0;36m<module>\u001b[0;34m\u001b[0m\n\u001b[0;32m----> 1\u001b[0;31m \u001b[0mstop\u001b[0m\u001b[0;34m\u001b[0m\u001b[0;34m\u001b[0m\u001b[0m\n\u001b[0m",
      "\u001b[0;31mNameError\u001b[0m: name 'stop' is not defined"
     ]
    }
   ],
   "source": [
    "stop"
   ]
  },
  {
   "cell_type": "code",
   "execution_count": null,
   "metadata": {},
   "outputs": [],
   "source": [
    "def projection(neuropil):\n",
    "    if neuropil == 'GNG':\n",
    "        return 'local'\n",
    "    else:\n",
    "        return 'outside SEZ'"
   ]
  },
  {
   "cell_type": "code",
   "execution_count": null,
   "metadata": {},
   "outputs": [
    {
     "data": {
      "text/html": [
       "<div>\n",
       "<style scoped>\n",
       "    .dataframe tbody tr th:only-of-type {\n",
       "        vertical-align: middle;\n",
       "    }\n",
       "\n",
       "    .dataframe tbody tr th {\n",
       "        vertical-align: top;\n",
       "    }\n",
       "\n",
       "    .dataframe thead th {\n",
       "        text-align: right;\n",
       "    }\n",
       "</style>\n",
       "<table border=\"1\" class=\"dataframe\">\n",
       "  <thead>\n",
       "    <tr style=\"text-align: right;\">\n",
       "      <th></th>\n",
       "      <th>second_order_cell_ID</th>\n",
       "      <th>num_input_lowsalt_synapses</th>\n",
       "      <th>label</th>\n",
       "      <th>total_num_input_synapses</th>\n",
       "      <th>percent_input_from_lowsalt_GRNs</th>\n",
       "      <th>num_upstream_lowsalt_cells</th>\n",
       "      <th>num_upstream_cells</th>\n",
       "    </tr>\n",
       "  </thead>\n",
       "  <tbody>\n",
       "    <tr>\n",
       "      <th>11</th>\n",
       "      <td>720575940631092943</td>\n",
       "      <td>590</td>\n",
       "      <td>['DNg']</td>\n",
       "      <td>3020</td>\n",
       "      <td>19.536424</td>\n",
       "      <td>11</td>\n",
       "      <td>117</td>\n",
       "    </tr>\n",
       "    <tr>\n",
       "      <th>15</th>\n",
       "      <td>720575940620553094</td>\n",
       "      <td>442</td>\n",
       "      <td>['SEZ interneuron closely matching GRN arbors']</td>\n",
       "      <td>4534</td>\n",
       "      <td>9.748566</td>\n",
       "      <td>11</td>\n",
       "      <td>200</td>\n",
       "    </tr>\n",
       "    <tr>\n",
       "      <th>18</th>\n",
       "      <td>720575940614635175</td>\n",
       "      <td>378</td>\n",
       "      <td>[]</td>\n",
       "      <td>4972</td>\n",
       "      <td>7.602574</td>\n",
       "      <td>11</td>\n",
       "      <td>212</td>\n",
       "    </tr>\n",
       "    <tr>\n",
       "      <th>0</th>\n",
       "      <td>720575940624234254</td>\n",
       "      <td>233</td>\n",
       "      <td>[]</td>\n",
       "      <td>591</td>\n",
       "      <td>39.424704</td>\n",
       "      <td>11</td>\n",
       "      <td>28</td>\n",
       "    </tr>\n",
       "    <tr>\n",
       "      <th>2</th>\n",
       "      <td>720575940621953285</td>\n",
       "      <td>228</td>\n",
       "      <td>['WEDa1_ventral']</td>\n",
       "      <td>673</td>\n",
       "      <td>33.878158</td>\n",
       "      <td>9</td>\n",
       "      <td>28</td>\n",
       "    </tr>\n",
       "    <tr>\n",
       "      <th>10</th>\n",
       "      <td>720575940621218694</td>\n",
       "      <td>192</td>\n",
       "      <td>['Pringle; See Sterne et al.; 2021; https://do...</td>\n",
       "      <td>945</td>\n",
       "      <td>20.317460</td>\n",
       "      <td>11</td>\n",
       "      <td>86</td>\n",
       "    </tr>\n",
       "    <tr>\n",
       "      <th>19</th>\n",
       "      <td>720575940637956698</td>\n",
       "      <td>68</td>\n",
       "      <td>[]</td>\n",
       "      <td>981</td>\n",
       "      <td>6.931702</td>\n",
       "      <td>4</td>\n",
       "      <td>43</td>\n",
       "    </tr>\n",
       "    <tr>\n",
       "      <th>4</th>\n",
       "      <td>720575940628198503</td>\n",
       "      <td>54</td>\n",
       "      <td>['lGRN'; 'Gustatory Receptor Neuron (GRN); Put...</td>\n",
       "      <td>178</td>\n",
       "      <td>30.337079</td>\n",
       "      <td>6</td>\n",
       "      <td>10</td>\n",
       "    </tr>\n",
       "    <tr>\n",
       "      <th>1</th>\n",
       "      <td>720575940631082124</td>\n",
       "      <td>54</td>\n",
       "      <td>['lGRN'; 'Gustatory Receptor Neuron (GRN); Put...</td>\n",
       "      <td>142</td>\n",
       "      <td>38.028169</td>\n",
       "      <td>4</td>\n",
       "      <td>9</td>\n",
       "    </tr>\n",
       "    <tr>\n",
       "      <th>3</th>\n",
       "      <td>720575940610683315</td>\n",
       "      <td>44</td>\n",
       "      <td>['Gustatory Receptor Neuron (GRN); Putative Ir...</td>\n",
       "      <td>130</td>\n",
       "      <td>33.846154</td>\n",
       "      <td>5</td>\n",
       "      <td>10</td>\n",
       "    </tr>\n",
       "    <tr>\n",
       "      <th>6</th>\n",
       "      <td>720575940626016017</td>\n",
       "      <td>39</td>\n",
       "      <td>['lGRN'; 'Gustatory Receptor Neuron (GRN); Put...</td>\n",
       "      <td>140</td>\n",
       "      <td>27.857143</td>\n",
       "      <td>5</td>\n",
       "      <td>10</td>\n",
       "    </tr>\n",
       "    <tr>\n",
       "      <th>25</th>\n",
       "      <td>720575940614128691</td>\n",
       "      <td>39</td>\n",
       "      <td>[]</td>\n",
       "      <td>1168</td>\n",
       "      <td>3.339041</td>\n",
       "      <td>3</td>\n",
       "      <td>67</td>\n",
       "    </tr>\n",
       "    <tr>\n",
       "      <th>7</th>\n",
       "      <td>720575940638218173</td>\n",
       "      <td>33</td>\n",
       "      <td>['Gustatory Receptor Neuron (GRN); Putative Ir...</td>\n",
       "      <td>120</td>\n",
       "      <td>27.500000</td>\n",
       "      <td>3</td>\n",
       "      <td>8</td>\n",
       "    </tr>\n",
       "    <tr>\n",
       "      <th>8</th>\n",
       "      <td>720575940624079544</td>\n",
       "      <td>33</td>\n",
       "      <td>['lGRN'; 'Gustatory Receptor Neuron (GRN); Put...</td>\n",
       "      <td>136</td>\n",
       "      <td>24.264706</td>\n",
       "      <td>4</td>\n",
       "      <td>7</td>\n",
       "    </tr>\n",
       "    <tr>\n",
       "      <th>26</th>\n",
       "      <td>720575940604891360</td>\n",
       "      <td>29</td>\n",
       "      <td>['ascending neurons']</td>\n",
       "      <td>964</td>\n",
       "      <td>3.008299</td>\n",
       "      <td>3</td>\n",
       "      <td>56</td>\n",
       "    </tr>\n",
       "    <tr>\n",
       "      <th>21</th>\n",
       "      <td>720575940616759014</td>\n",
       "      <td>29</td>\n",
       "      <td>['FLAa2']</td>\n",
       "      <td>538</td>\n",
       "      <td>5.390335</td>\n",
       "      <td>5</td>\n",
       "      <td>32</td>\n",
       "    </tr>\n",
       "    <tr>\n",
       "      <th>5</th>\n",
       "      <td>720575940621375231</td>\n",
       "      <td>29</td>\n",
       "      <td>['lGRN'; 'Gustatory Receptor Neuron (GRN); Put...</td>\n",
       "      <td>102</td>\n",
       "      <td>28.431373</td>\n",
       "      <td>4</td>\n",
       "      <td>9</td>\n",
       "    </tr>\n",
       "    <tr>\n",
       "      <th>30</th>\n",
       "      <td>720575940628683063</td>\n",
       "      <td>27</td>\n",
       "      <td>[]</td>\n",
       "      <td>1194</td>\n",
       "      <td>2.261307</td>\n",
       "      <td>3</td>\n",
       "      <td>80</td>\n",
       "    </tr>\n",
       "    <tr>\n",
       "      <th>9</th>\n",
       "      <td>720575940646250804</td>\n",
       "      <td>25</td>\n",
       "      <td>['mAL5'; 'fru'; 'mALb; put_AVM15nC']</td>\n",
       "      <td>110</td>\n",
       "      <td>22.727273</td>\n",
       "      <td>2</td>\n",
       "      <td>11</td>\n",
       "    </tr>\n",
       "    <tr>\n",
       "      <th>13</th>\n",
       "      <td>720575940612920386</td>\n",
       "      <td>23</td>\n",
       "      <td>['Gustatory Receptor Neuron (GRN); Putative Ir...</td>\n",
       "      <td>134</td>\n",
       "      <td>17.164179</td>\n",
       "      <td>2</td>\n",
       "      <td>5</td>\n",
       "    </tr>\n",
       "    <tr>\n",
       "      <th>12</th>\n",
       "      <td>720575940614211295</td>\n",
       "      <td>21</td>\n",
       "      <td>['lGRN'; 'Gustatory Receptor Neuron (GRN); Put...</td>\n",
       "      <td>122</td>\n",
       "      <td>17.213115</td>\n",
       "      <td>2</td>\n",
       "      <td>6</td>\n",
       "    </tr>\n",
       "    <tr>\n",
       "      <th>31</th>\n",
       "      <td>720575940631448874</td>\n",
       "      <td>20</td>\n",
       "      <td>['Earmuff; See Sterne et al.; 2021; https://do...</td>\n",
       "      <td>921</td>\n",
       "      <td>2.171553</td>\n",
       "      <td>3</td>\n",
       "      <td>64</td>\n",
       "    </tr>\n",
       "    <tr>\n",
       "      <th>20</th>\n",
       "      <td>720575940634462304</td>\n",
       "      <td>18</td>\n",
       "      <td>['mAL4'; 'fru'; 'mALd; put_AVM15c; mALi']</td>\n",
       "      <td>298</td>\n",
       "      <td>6.040268</td>\n",
       "      <td>2</td>\n",
       "      <td>22</td>\n",
       "    </tr>\n",
       "    <tr>\n",
       "      <th>24</th>\n",
       "      <td>720575940610550830</td>\n",
       "      <td>18</td>\n",
       "      <td>[]</td>\n",
       "      <td>493</td>\n",
       "      <td>3.651116</td>\n",
       "      <td>3</td>\n",
       "      <td>25</td>\n",
       "    </tr>\n",
       "    <tr>\n",
       "      <th>17</th>\n",
       "      <td>720575940646663044</td>\n",
       "      <td>18</td>\n",
       "      <td>['mAL4'; 'fru'; 'mALa; put_AVM15dB']</td>\n",
       "      <td>232</td>\n",
       "      <td>7.758621</td>\n",
       "      <td>2</td>\n",
       "      <td>17</td>\n",
       "    </tr>\n",
       "    <tr>\n",
       "      <th>29</th>\n",
       "      <td>720575940619034782</td>\n",
       "      <td>17</td>\n",
       "      <td>[]</td>\n",
       "      <td>729</td>\n",
       "      <td>2.331962</td>\n",
       "      <td>3</td>\n",
       "      <td>43</td>\n",
       "    </tr>\n",
       "    <tr>\n",
       "      <th>28</th>\n",
       "      <td>720575940634090777</td>\n",
       "      <td>15</td>\n",
       "      <td>[]</td>\n",
       "      <td>620</td>\n",
       "      <td>2.419355</td>\n",
       "      <td>2</td>\n",
       "      <td>50</td>\n",
       "    </tr>\n",
       "    <tr>\n",
       "      <th>14</th>\n",
       "      <td>720575940619185031</td>\n",
       "      <td>14</td>\n",
       "      <td>['mAL5'; 'fru'; 'mALe; put_AVM15i']</td>\n",
       "      <td>116</td>\n",
       "      <td>12.068966</td>\n",
       "      <td>2</td>\n",
       "      <td>11</td>\n",
       "    </tr>\n",
       "    <tr>\n",
       "      <th>23</th>\n",
       "      <td>720575940630575943</td>\n",
       "      <td>14</td>\n",
       "      <td>['Mime; Putative second-order bitter neuron; S...</td>\n",
       "      <td>377</td>\n",
       "      <td>3.713528</td>\n",
       "      <td>2</td>\n",
       "      <td>35</td>\n",
       "    </tr>\n",
       "    <tr>\n",
       "      <th>34</th>\n",
       "      <td>720575940642335373</td>\n",
       "      <td>12</td>\n",
       "      <td>[]</td>\n",
       "      <td>1196</td>\n",
       "      <td>1.003344</td>\n",
       "      <td>2</td>\n",
       "      <td>59</td>\n",
       "    </tr>\n",
       "    <tr>\n",
       "      <th>33</th>\n",
       "      <td>720575940623696362</td>\n",
       "      <td>11</td>\n",
       "      <td>['ascending tarsal GRN (atGRN) (Thoma et al. 2...</td>\n",
       "      <td>725</td>\n",
       "      <td>1.517241</td>\n",
       "      <td>2</td>\n",
       "      <td>35</td>\n",
       "    </tr>\n",
       "    <tr>\n",
       "      <th>35</th>\n",
       "      <td>720575940620627803</td>\n",
       "      <td>7</td>\n",
       "      <td>[]</td>\n",
       "      <td>707</td>\n",
       "      <td>0.990099</td>\n",
       "      <td>1</td>\n",
       "      <td>36</td>\n",
       "    </tr>\n",
       "    <tr>\n",
       "      <th>41</th>\n",
       "      <td>720575940624600840</td>\n",
       "      <td>7</td>\n",
       "      <td>['Second-order bitter neuron Scapula (Shiu; St...</td>\n",
       "      <td>3752</td>\n",
       "      <td>0.186567</td>\n",
       "      <td>1</td>\n",
       "      <td>157</td>\n",
       "    </tr>\n",
       "    <tr>\n",
       "      <th>32</th>\n",
       "      <td>720575940635642725</td>\n",
       "      <td>6</td>\n",
       "      <td>['Earmuff; See Sterne et al.; 2021; https://do...</td>\n",
       "      <td>392</td>\n",
       "      <td>1.530612</td>\n",
       "      <td>1</td>\n",
       "      <td>37</td>\n",
       "    </tr>\n",
       "    <tr>\n",
       "      <th>22</th>\n",
       "      <td>720575940632894690</td>\n",
       "      <td>6</td>\n",
       "      <td>['mAL4'; 'fru'; 'mALa; put_AVM15dC; mALi; put_...</td>\n",
       "      <td>126</td>\n",
       "      <td>4.761905</td>\n",
       "      <td>1</td>\n",
       "      <td>11</td>\n",
       "    </tr>\n",
       "    <tr>\n",
       "      <th>39</th>\n",
       "      <td>720575940633198284</td>\n",
       "      <td>6</td>\n",
       "      <td>['unclassified_IN_FW_389']</td>\n",
       "      <td>1095</td>\n",
       "      <td>0.547945</td>\n",
       "      <td>1</td>\n",
       "      <td>67</td>\n",
       "    </tr>\n",
       "    <tr>\n",
       "      <th>27</th>\n",
       "      <td>720575940634186906</td>\n",
       "      <td>5</td>\n",
       "      <td>['mAL4'; 'fru'; 'mALa; put_AVM15dC']</td>\n",
       "      <td>167</td>\n",
       "      <td>2.994012</td>\n",
       "      <td>1</td>\n",
       "      <td>17</td>\n",
       "    </tr>\n",
       "    <tr>\n",
       "      <th>36</th>\n",
       "      <td>720575940610956334</td>\n",
       "      <td>5</td>\n",
       "      <td>['Turner; See Sterne et al.; 2021; https://doi...</td>\n",
       "      <td>643</td>\n",
       "      <td>0.777605</td>\n",
       "      <td>1</td>\n",
       "      <td>49</td>\n",
       "    </tr>\n",
       "    <tr>\n",
       "      <th>37</th>\n",
       "      <td>720575940613524973</td>\n",
       "      <td>5</td>\n",
       "      <td>[]</td>\n",
       "      <td>705</td>\n",
       "      <td>0.709220</td>\n",
       "      <td>1</td>\n",
       "      <td>31</td>\n",
       "    </tr>\n",
       "    <tr>\n",
       "      <th>38</th>\n",
       "      <td>720575940611715813</td>\n",
       "      <td>5</td>\n",
       "      <td>['Pringle; See Sterne et al.; 2021; https://do...</td>\n",
       "      <td>873</td>\n",
       "      <td>0.572738</td>\n",
       "      <td>1</td>\n",
       "      <td>82</td>\n",
       "    </tr>\n",
       "    <tr>\n",
       "      <th>40</th>\n",
       "      <td>720575940627709956</td>\n",
       "      <td>5</td>\n",
       "      <td>['up_DN1_IN_6']</td>\n",
       "      <td>1051</td>\n",
       "      <td>0.475737</td>\n",
       "      <td>1</td>\n",
       "      <td>81</td>\n",
       "    </tr>\n",
       "    <tr>\n",
       "      <th>16</th>\n",
       "      <td>720575940615274425</td>\n",
       "      <td>5</td>\n",
       "      <td>['Gustatory Receptor Neuron (GRN); Putative Ir...</td>\n",
       "      <td>60</td>\n",
       "      <td>8.333333</td>\n",
       "      <td>1</td>\n",
       "      <td>6</td>\n",
       "    </tr>\n",
       "  </tbody>\n",
       "</table>\n",
       "</div>"
      ],
      "text/plain": [
       "    second_order_cell_ID  num_input_lowsalt_synapses  \\\n",
       "11    720575940631092943                         590   \n",
       "15    720575940620553094                         442   \n",
       "18    720575940614635175                         378   \n",
       "0     720575940624234254                         233   \n",
       "2     720575940621953285                         228   \n",
       "10    720575940621218694                         192   \n",
       "19    720575940637956698                          68   \n",
       "4     720575940628198503                          54   \n",
       "1     720575940631082124                          54   \n",
       "3     720575940610683315                          44   \n",
       "6     720575940626016017                          39   \n",
       "25    720575940614128691                          39   \n",
       "7     720575940638218173                          33   \n",
       "8     720575940624079544                          33   \n",
       "26    720575940604891360                          29   \n",
       "21    720575940616759014                          29   \n",
       "5     720575940621375231                          29   \n",
       "30    720575940628683063                          27   \n",
       "9     720575940646250804                          25   \n",
       "13    720575940612920386                          23   \n",
       "12    720575940614211295                          21   \n",
       "31    720575940631448874                          20   \n",
       "20    720575940634462304                          18   \n",
       "24    720575940610550830                          18   \n",
       "17    720575940646663044                          18   \n",
       "29    720575940619034782                          17   \n",
       "28    720575940634090777                          15   \n",
       "14    720575940619185031                          14   \n",
       "23    720575940630575943                          14   \n",
       "34    720575940642335373                          12   \n",
       "33    720575940623696362                          11   \n",
       "35    720575940620627803                           7   \n",
       "41    720575940624600840                           7   \n",
       "32    720575940635642725                           6   \n",
       "22    720575940632894690                           6   \n",
       "39    720575940633198284                           6   \n",
       "27    720575940634186906                           5   \n",
       "36    720575940610956334                           5   \n",
       "37    720575940613524973                           5   \n",
       "38    720575940611715813                           5   \n",
       "40    720575940627709956                           5   \n",
       "16    720575940615274425                           5   \n",
       "\n",
       "                                                label  \\\n",
       "11                                            ['DNg']   \n",
       "15    ['SEZ interneuron closely matching GRN arbors']   \n",
       "18                                                 []   \n",
       "0                                                  []   \n",
       "2                                   ['WEDa1_ventral']   \n",
       "10  ['Pringle; See Sterne et al.; 2021; https://do...   \n",
       "19                                                 []   \n",
       "4   ['lGRN'; 'Gustatory Receptor Neuron (GRN); Put...   \n",
       "1   ['lGRN'; 'Gustatory Receptor Neuron (GRN); Put...   \n",
       "3   ['Gustatory Receptor Neuron (GRN); Putative Ir...   \n",
       "6   ['lGRN'; 'Gustatory Receptor Neuron (GRN); Put...   \n",
       "25                                                 []   \n",
       "7   ['Gustatory Receptor Neuron (GRN); Putative Ir...   \n",
       "8   ['lGRN'; 'Gustatory Receptor Neuron (GRN); Put...   \n",
       "26                              ['ascending neurons']   \n",
       "21                                          ['FLAa2']   \n",
       "5   ['lGRN'; 'Gustatory Receptor Neuron (GRN); Put...   \n",
       "30                                                 []   \n",
       "9                ['mAL5'; 'fru'; 'mALb; put_AVM15nC']   \n",
       "13  ['Gustatory Receptor Neuron (GRN); Putative Ir...   \n",
       "12  ['lGRN'; 'Gustatory Receptor Neuron (GRN); Put...   \n",
       "31  ['Earmuff; See Sterne et al.; 2021; https://do...   \n",
       "20          ['mAL4'; 'fru'; 'mALd; put_AVM15c; mALi']   \n",
       "24                                                 []   \n",
       "17               ['mAL4'; 'fru'; 'mALa; put_AVM15dB']   \n",
       "29                                                 []   \n",
       "28                                                 []   \n",
       "14                ['mAL5'; 'fru'; 'mALe; put_AVM15i']   \n",
       "23  ['Mime; Putative second-order bitter neuron; S...   \n",
       "34                                                 []   \n",
       "33  ['ascending tarsal GRN (atGRN) (Thoma et al. 2...   \n",
       "35                                                 []   \n",
       "41  ['Second-order bitter neuron Scapula (Shiu; St...   \n",
       "32  ['Earmuff; See Sterne et al.; 2021; https://do...   \n",
       "22  ['mAL4'; 'fru'; 'mALa; put_AVM15dC; mALi; put_...   \n",
       "39                         ['unclassified_IN_FW_389']   \n",
       "27               ['mAL4'; 'fru'; 'mALa; put_AVM15dC']   \n",
       "36  ['Turner; See Sterne et al.; 2021; https://doi...   \n",
       "37                                                 []   \n",
       "38  ['Pringle; See Sterne et al.; 2021; https://do...   \n",
       "40                                    ['up_DN1_IN_6']   \n",
       "16  ['Gustatory Receptor Neuron (GRN); Putative Ir...   \n",
       "\n",
       "    total_num_input_synapses  percent_input_from_lowsalt_GRNs  \\\n",
       "11                      3020                        19.536424   \n",
       "15                      4534                         9.748566   \n",
       "18                      4972                         7.602574   \n",
       "0                        591                        39.424704   \n",
       "2                        673                        33.878158   \n",
       "10                       945                        20.317460   \n",
       "19                       981                         6.931702   \n",
       "4                        178                        30.337079   \n",
       "1                        142                        38.028169   \n",
       "3                        130                        33.846154   \n",
       "6                        140                        27.857143   \n",
       "25                      1168                         3.339041   \n",
       "7                        120                        27.500000   \n",
       "8                        136                        24.264706   \n",
       "26                       964                         3.008299   \n",
       "21                       538                         5.390335   \n",
       "5                        102                        28.431373   \n",
       "30                      1194                         2.261307   \n",
       "9                        110                        22.727273   \n",
       "13                       134                        17.164179   \n",
       "12                       122                        17.213115   \n",
       "31                       921                         2.171553   \n",
       "20                       298                         6.040268   \n",
       "24                       493                         3.651116   \n",
       "17                       232                         7.758621   \n",
       "29                       729                         2.331962   \n",
       "28                       620                         2.419355   \n",
       "14                       116                        12.068966   \n",
       "23                       377                         3.713528   \n",
       "34                      1196                         1.003344   \n",
       "33                       725                         1.517241   \n",
       "35                       707                         0.990099   \n",
       "41                      3752                         0.186567   \n",
       "32                       392                         1.530612   \n",
       "22                       126                         4.761905   \n",
       "39                      1095                         0.547945   \n",
       "27                       167                         2.994012   \n",
       "36                       643                         0.777605   \n",
       "37                       705                         0.709220   \n",
       "38                       873                         0.572738   \n",
       "40                      1051                         0.475737   \n",
       "16                        60                         8.333333   \n",
       "\n",
       "    num_upstream_lowsalt_cells  num_upstream_cells  \n",
       "11                          11                 117  \n",
       "15                          11                 200  \n",
       "18                          11                 212  \n",
       "0                           11                  28  \n",
       "2                            9                  28  \n",
       "10                          11                  86  \n",
       "19                           4                  43  \n",
       "4                            6                  10  \n",
       "1                            4                   9  \n",
       "3                            5                  10  \n",
       "6                            5                  10  \n",
       "25                           3                  67  \n",
       "7                            3                   8  \n",
       "8                            4                   7  \n",
       "26                           3                  56  \n",
       "21                           5                  32  \n",
       "5                            4                   9  \n",
       "30                           3                  80  \n",
       "9                            2                  11  \n",
       "13                           2                   5  \n",
       "12                           2                   6  \n",
       "31                           3                  64  \n",
       "20                           2                  22  \n",
       "24                           3                  25  \n",
       "17                           2                  17  \n",
       "29                           3                  43  \n",
       "28                           2                  50  \n",
       "14                           2                  11  \n",
       "23                           2                  35  \n",
       "34                           2                  59  \n",
       "33                           2                  35  \n",
       "35                           1                  36  \n",
       "41                           1                 157  \n",
       "32                           1                  37  \n",
       "22                           1                  11  \n",
       "39                           1                  67  \n",
       "27                           1                  17  \n",
       "36                           1                  49  \n",
       "37                           1                  31  \n",
       "38                           1                  82  \n",
       "40                           1                  81  \n",
       "16                           1                   6  "
      ]
     },
     "execution_count": 78,
     "metadata": {},
     "output_type": "execute_result"
    }
   ],
   "source": [
    "lowsalt_labels2.sort_values(by= 'num_input_lowsalt_synapses', ascending = False)\n",
    "\n",
    "#exclude GRNs when tracing third orders"
   ]
  },
  {
   "cell_type": "code",
   "execution_count": null,
   "metadata": {},
   "outputs": [],
   "source": [
    "third_order_connections['projection'] = third_order_connections['neuropil'].apply(projection)\n",
    "third_order_connections = third_order_connections.drop(columns=['pre_root_id'])\n",
    "third_order_connections = third_order_connections.rename(columns={'post_root_id':'third_order_cell_ID','label':'second_order_cell_label'})\n"
   ]
  },
  {
   "cell_type": "code",
   "execution_count": null,
   "metadata": {},
   "outputs": [
    {
     "data": {
      "text/html": [
       "<div>\n",
       "<style scoped>\n",
       "    .dataframe tbody tr th:only-of-type {\n",
       "        vertical-align: middle;\n",
       "    }\n",
       "\n",
       "    .dataframe tbody tr th {\n",
       "        vertical-align: top;\n",
       "    }\n",
       "\n",
       "    .dataframe thead th {\n",
       "        text-align: right;\n",
       "    }\n",
       "</style>\n",
       "<table border=\"1\" class=\"dataframe\">\n",
       "  <thead>\n",
       "    <tr style=\"text-align: right;\">\n",
       "      <th></th>\n",
       "      <th>second_order_cell_ID</th>\n",
       "      <th>second_order_cell_label</th>\n",
       "      <th>third_order_cell_ID</th>\n",
       "      <th>neuropil</th>\n",
       "      <th>syn_count</th>\n",
       "      <th>projection</th>\n",
       "    </tr>\n",
       "  </thead>\n",
       "  <tbody>\n",
       "    <tr>\n",
       "      <th>0</th>\n",
       "      <td>720575940624234254</td>\n",
       "      <td>[]</td>\n",
       "      <td>720575940604395436</td>\n",
       "      <td>SLP_L</td>\n",
       "      <td>5</td>\n",
       "      <td>outside SEZ</td>\n",
       "    </tr>\n",
       "    <tr>\n",
       "      <th>2</th>\n",
       "      <td>720575940624234254</td>\n",
       "      <td>[]</td>\n",
       "      <td>720575940604516524</td>\n",
       "      <td>LH_L</td>\n",
       "      <td>6</td>\n",
       "      <td>outside SEZ</td>\n",
       "    </tr>\n",
       "    <tr>\n",
       "      <th>3</th>\n",
       "      <td>720575940624234254</td>\n",
       "      <td>[]</td>\n",
       "      <td>720575940604516524</td>\n",
       "      <td>SLP_L</td>\n",
       "      <td>44</td>\n",
       "      <td>outside SEZ</td>\n",
       "    </tr>\n",
       "  </tbody>\n",
       "</table>\n",
       "</div>"
      ],
      "text/plain": [
       "   second_order_cell_ID second_order_cell_label  third_order_cell_ID neuropil  \\\n",
       "0    720575940624234254                      []   720575940604395436    SLP_L   \n",
       "2    720575940624234254                      []   720575940604516524     LH_L   \n",
       "3    720575940624234254                      []   720575940604516524    SLP_L   \n",
       "\n",
       "   syn_count   projection  \n",
       "0          5  outside SEZ  \n",
       "2          6  outside SEZ  \n",
       "3         44  outside SEZ  "
      ]
     },
     "execution_count": 70,
     "metadata": {},
     "output_type": "execute_result"
    }
   ],
   "source": [
    "third_order_connections[0:3]\n",
    "#if projects outside the sez, do not classify as local\n",
    "#second order vs # synapses "
   ]
  },
  {
   "cell_type": "code",
   "execution_count": null,
   "metadata": {},
   "outputs": [
    {
     "data": {
      "image/png": "[encoded data removed]",
      "text/plain": [
       "<Figure size 640x480 with 1 Axes>"
      ]
     },
     "metadata": {},
     "output_type": "display_data"
    }
   ],
   "source": [
    "x = lowsalt_labels2['num_upstream_lowsalt_cells']\n",
    "y = lowsalt_labels2['num_input_lowsalt_synapses']\n",
    "\n",
    "# Create a scatter plot\n",
    "plt.scatter(x, y)\n",
    "\n",
    "# Add labels and a title\n",
    "plt.xlabel('Number of Upstream Cells')\n",
    "plt.ylabel('Number Input LowSalt Synapses')\n",
    "plt.title('# Cells vs. # Synapses')\n",
    "\n",
    "# Show the plot\n",
    "plt.show()"
   ]
  },
  {
   "cell_type": "code",
   "execution_count": null,
   "metadata": {},
   "outputs": [
    {
     "data": {
      "image/png": "[encoded data removed]",
      "text/plain": [
       "<Figure size 640x480 with 1 Axes>"
      ]
     },
     "metadata": {},
     "output_type": "display_data"
    }
   ],
   "source": [
    "x1 = lowsalt_labels2['num_upstream_lowsalt_cells']*8.2\n",
    "y1 = lowsalt_labels2['percent_input_from_lowsalt_GRNs']\n",
    "\n",
    "x2 = lowsalt_labels2['num_input_lowsalt_synapses']\n",
    "y2 = lowsalt_labels2['percent_input_from_lowsalt_GRNs']\n",
    "\n",
    "fig, ax = plt.subplots()\n",
    "\n",
    "ax.scatter(x1, y1, label='# Upstream Cells', color='blue', marker='o')\n",
    "ax.scatter(x2, y2, label='# Input Synapses', color='red', marker='x')\n",
    "\n",
    "\n",
    "ax.set_xlabel('Amt Presynaptic Connections')\n",
    "ax.set_ylabel('% Input from Salt GRNs')\n",
    "ax.set_title('Correlation for Low Salt Second Order')\n",
    "\n",
    "ax.legend()\n",
    "plt.show()"
   ]
  },
  {
   "cell_type": "code",
   "execution_count": null,
   "metadata": {},
   "outputs": [],
   "source": [
    "import navis"
   ]
  },
  {
   "cell_type": "code",
   "execution_count": null,
   "metadata": {},
   "outputs": [
    {
     "data": {
      "text/html": [
       "&lt;class 'navis.core.neuronlist.NeuronList'&gt; containing 2 neurons (1.2MiB)<div>\n",
       "<style scoped>\n",
       "    .dataframe tbody tr th:only-of-type {\n",
       "        vertical-align: middle;\n",
       "    }\n",
       "\n",
       "    .dataframe tbody tr th {\n",
       "        vertical-align: top;\n",
       "    }\n",
       "\n",
       "    .dataframe thead th {\n",
       "        text-align: right;\n",
       "    }\n",
       "</style>\n",
       "<table border=\"1\" class=\"dataframe\">\n",
       "  <thead>\n",
       "    <tr style=\"text-align: right;\">\n",
       "      <th></th>\n",
       "      <th>type</th>\n",
       "      <th>name</th>\n",
       "      <th>id</th>\n",
       "      <th>units</th>\n",
       "      <th>n_vertices</th>\n",
       "      <th>n_faces</th>\n",
       "    </tr>\n",
       "  </thead>\n",
       "  <tbody>\n",
       "    <tr>\n",
       "      <th>0</th>\n",
       "      <td>navis.MeshNeuron</td>\n",
       "      <td>DA1_lPN_R</td>\n",
       "      <td>1734350788</td>\n",
       "      <td>8 nanometer</td>\n",
       "      <td>6309</td>\n",
       "      <td>13054</td>\n",
       "    </tr>\n",
       "    <tr>\n",
       "      <th>1</th>\n",
       "      <td>navis.MeshNeuron</td>\n",
       "      <td>DA1_lPN_R</td>\n",
       "      <td>1734350908</td>\n",
       "      <td>8 nanometer</td>\n",
       "      <td>7098</td>\n",
       "      <td>14620</td>\n",
       "    </tr>\n",
       "  </tbody>\n",
       "</table>\n",
       "</div>"
      ],
      "text/plain": [
       "<class 'navis.core.neuronlist.NeuronList'> containing 2 neurons (1.2MiB)\n",
       "               type       name          id        units  n_vertices  n_faces\n",
       "0  navis.MeshNeuron  DA1_lPN_R  1734350788  8 nanometer        6309    13054\n",
       "1  navis.MeshNeuron  DA1_lPN_R  1734350908  8 nanometer        7098    14620"
      ]
     },
     "execution_count": 74,
     "metadata": {},
     "output_type": "execute_result"
    }
   ],
   "source": [
    "navis.example_neurons(n=2, kind='mesh')"
   ]
  },
  {
   "cell_type": "code",
   "execution_count": null,
   "metadata": {},
   "outputs": [
    {
     "data": {
      "application/vnd.plotly.v1+json": {
       "config": {
        "plotlyServerURL": "https://plot.ly"
       },
       "data": [],
       "layout": {
        "autosize": true,
        "height": 600,
        "paper_bgcolor": "rgba(0,0,0,0)",
        "plot_bgcolor": "rgba(0,0,0,0)",
        "scene": {
         "aspectmode": "data",
         "aspectratio": {
          "x": 1,
          "y": 1,
          "z": 1
         },
         "camera": {
          "eye": {
           "x": -1.7428,
           "y": 1.0707,
           "z": 0.71
          },
          "up": {
           "x": 0,
           "y": 0,
           "z": 1
          }
         },
         "xaxis": {
          "backgroundcolor": "rgb(240, 240, 240)",
          "gridcolor": "rgb(255, 255, 255)",
          "showbackground": false,
          "showgrid": false,
          "showline": false,
          "zerolinecolor": "rgb(255, 255, 255)"
         },
         "yaxis": {
          "backgroundcolor": "rgb(240, 240, 240)",
          "gridcolor": "rgb(255, 255, 255)",
          "showbackground": false,
          "showgrid": false,
          "showline": false,
          "zerolinecolor": "rgb(255, 255, 255)"
         },
         "zaxis": {
          "backgroundcolor": "rgb(240, 240, 240)",
          "gridcolor": "rgb(255, 255, 255)",
          "showbackground": false,
          "showgrid": false,
          "showline": false,
          "zerolinecolor": "rgb(255, 255, 255)"
         }
        },
        "template": {
         "data": {
          "bar": [
           {
            "error_x": {
             "color": "#2a3f5f"
            },
            "error_y": {
             "color": "#2a3f5f"
            },
            "marker": {
             "line": {
              "color": "#E5ECF6",
              "width": 0.5
             },
             "pattern": {
              "fillmode": "overlay",
              "size": 10,
              "solidity": 0.2
             }
            },
            "type": "bar"
           }
          ],
          "barpolar": [
           {
            "marker": {
             "line": {
              "color": "#E5ECF6",
              "width": 0.5
             },
             "pattern": {
              "fillmode": "overlay",
              "size": 10,
              "solidity": 0.2
             }
            },
            "type": "barpolar"
           }
          ],
          "carpet": [
           {
            "aaxis": {
             "endlinecolor": "#2a3f5f",
             "gridcolor": "white",
             "linecolor": "white",
             "minorgridcolor": "white",
             "startlinecolor": "#2a3f5f"
            },
            "baxis": {
             "endlinecolor": "#2a3f5f",
             "gridcolor": "white",
             "linecolor": "white",
             "minorgridcolor": "white",
             "startlinecolor": "#2a3f5f"
            },
            "type": "carpet"
           }
          ],
          "choropleth": [
           {
            "colorbar": {
             "outlinewidth": 0,
             "ticks": ""
            },
            "type": "choropleth"
           }
          ],
          "contour": [
           {
            "colorbar": {
             "outlinewidth": 0,
             "ticks": ""
            },
            "colorscale": [
             [
              0,
              "#0d0887"
             ],
             [
              0.1111111111111111,
              "#46039f"
             ],
             [
              0.2222222222222222,
              "#7201a8"
             ],
             [
              0.3333333333333333,
              "#9c179e"
             ],
             [
              0.4444444444444444,
              "#bd3786"
             ],
             [
              0.5555555555555556,
              "#d8576b"
             ],
             [
              0.6666666666666666,
              "#ed7953"
             ],
             [
              0.7777777777777778,
              "#fb9f3a"
             ],
             [
              0.8888888888888888,
              "#fdca26"
             ],
             [
              1,
              "#f0f921"
             ]
            ],
            "type": "contour"
           }
          ],
          "contourcarpet": [
           {
            "colorbar": {
             "outlinewidth": 0,
             "ticks": ""
            },
            "type": "contourcarpet"
           }
          ],
          "heatmap": [
           {
            "colorbar": {
             "outlinewidth": 0,
             "ticks": ""
            },
            "colorscale": [
             [
              0,
              "#0d0887"
             ],
             [
              0.1111111111111111,
              "#46039f"
             ],
             [
              0.2222222222222222,
              "#7201a8"
             ],
             [
              0.3333333333333333,
              "#9c179e"
             ],
             [
              0.4444444444444444,
              "#bd3786"
             ],
             [
              0.5555555555555556,
              "#d8576b"
             ],
             [
              0.6666666666666666,
              "#ed7953"
             ],
             [
              0.7777777777777778,
              "#fb9f3a"
             ],
             [
              0.8888888888888888,
              "#fdca26"
             ],
             [
              1,
              "#f0f921"
             ]
            ],
            "type": "heatmap"
           }
          ],
          "heatmapgl": [
           {
            "colorbar": {
             "outlinewidth": 0,
             "ticks": ""
            },
            "colorscale": [
             [
              0,
              "#0d0887"
             ],
             [
              0.1111111111111111,
              "#46039f"
             ],
             [
              0.2222222222222222,
              "#7201a8"
             ],
             [
              0.3333333333333333,
              "#9c179e"
             ],
             [
              0.4444444444444444,
              "#bd3786"
             ],
             [
              0.5555555555555556,
              "#d8576b"
             ],
             [
              0.6666666666666666,
              "#ed7953"
             ],
             [
              0.7777777777777778,
              "#fb9f3a"
             ],
             [
              0.8888888888888888,
              "#fdca26"
             ],
             [
              1,
              "#f0f921"
             ]
            ],
            "type": "heatmapgl"
           }
          ],
          "histogram": [
           {
            "marker": {
             "pattern": {
              "fillmode": "overlay",
              "size": 10,
              "solidity": 0.2
             }
            },
            "type": "histogram"
           }
          ],
          "histogram2d": [
           {
            "colorbar": {
             "outlinewidth": 0,
             "ticks": ""
            },
            "colorscale": [
             [
              0,
              "#0d0887"
             ],
             [
              0.1111111111111111,
              "#46039f"
             ],
             [
              0.2222222222222222,
              "#7201a8"
             ],
             [
              0.3333333333333333,
              "#9c179e"
             ],
             [
              0.4444444444444444,
              "#bd3786"
             ],
             [
              0.5555555555555556,
              "#d8576b"
             ],
             [
              0.6666666666666666,
              "#ed7953"
             ],
             [
              0.7777777777777778,
              "#fb9f3a"
             ],
             [
              0.8888888888888888,
              "#fdca26"
             ],
             [
              1,
              "#f0f921"
             ]
            ],
            "type": "histogram2d"
           }
          ],
          "histogram2dcontour": [
           {
            "colorbar": {
             "outlinewidth": 0,
             "ticks": ""
            },
            "colorscale": [
             [
              0,
              "#0d0887"
             ],
             [
              0.1111111111111111,
              "#46039f"
             ],
             [
              0.2222222222222222,
              "#7201a8"
             ],
             [
              0.3333333333333333,
              "#9c179e"
             ],
             [
              0.4444444444444444,
              "#bd3786"
             ],
             [
              0.5555555555555556,
              "#d8576b"
             ],
             [
              0.6666666666666666,
              "#ed7953"
             ],
             [
              0.7777777777777778,
              "#fb9f3a"
             ],
             [
              0.8888888888888888,
              "#fdca26"
             ],
             [
              1,
              "#f0f921"
             ]
            ],
            "type": "histogram2dcontour"
           }
          ],
          "mesh3d": [
           {
            "colorbar": {
             "outlinewidth": 0,
             "ticks": ""
            },
            "type": "mesh3d"
           }
          ],
          "parcoords": [
           {
            "line": {
             "colorbar": {
              "outlinewidth": 0,
              "ticks": ""
             }
            },
            "type": "parcoords"
           }
          ],
          "pie": [
           {
            "automargin": true,
            "type": "pie"
           }
          ],
          "scatter": [
           {
            "fillpattern": {
             "fillmode": "overlay",
             "size": 10,
             "solidity": 0.2
            },
            "type": "scatter"
           }
          ],
          "scatter3d": [
           {
            "line": {
             "colorbar": {
              "outlinewidth": 0,
              "ticks": ""
             }
            },
            "marker": {
             "colorbar": {
              "outlinewidth": 0,
              "ticks": ""
             }
            },
            "type": "scatter3d"
           }
          ],
          "scattercarpet": [
           {
            "marker": {
             "colorbar": {
              "outlinewidth": 0,
              "ticks": ""
             }
            },
            "type": "scattercarpet"
           }
          ],
          "scattergeo": [
           {
            "marker": {
             "colorbar": {
              "outlinewidth": 0,
              "ticks": ""
             }
            },
            "type": "scattergeo"
           }
          ],
          "scattergl": [
           {
            "marker": {
             "colorbar": {
              "outlinewidth": 0,
              "ticks": ""
             }
            },
            "type": "scattergl"
           }
          ],
          "scattermapbox": [
           {
            "marker": {
             "colorbar": {
              "outlinewidth": 0,
              "ticks": ""
             }
            },
            "type": "scattermapbox"
           }
          ],
          "scatterpolar": [
           {
            "marker": {
             "colorbar": {
              "outlinewidth": 0,
              "ticks": ""
             }
            },
            "type": "scatterpolar"
           }
          ],
          "scatterpolargl": [
           {
            "marker": {
             "colorbar": {
              "outlinewidth": 0,
              "ticks": ""
             }
            },
            "type": "scatterpolargl"
           }
          ],
          "scatterternary": [
           {
            "marker": {
             "colorbar": {
              "outlinewidth": 0,
              "ticks": ""
             }
            },
            "type": "scatterternary"
           }
          ],
          "surface": [
           {
            "colorbar": {
             "outlinewidth": 0,
             "ticks": ""
            },
            "colorscale": [
             [
              0,
              "#0d0887"
             ],
             [
              0.1111111111111111,
              "#46039f"
             ],
             [
              0.2222222222222222,
              "#7201a8"
             ],
             [
              0.3333333333333333,
              "#9c179e"
             ],
             [
              0.4444444444444444,
              "#bd3786"
             ],
             [
              0.5555555555555556,
              "#d8576b"
             ],
             [
              0.6666666666666666,
              "#ed7953"
             ],
             [
              0.7777777777777778,
              "#fb9f3a"
             ],
             [
              0.8888888888888888,
              "#fdca26"
             ],
             [
              1,
              "#f0f921"
             ]
            ],
            "type": "surface"
           }
          ],
          "table": [
           {
            "cells": {
             "fill": {
              "color": "#EBF0F8"
             },
             "line": {
              "color": "white"
             }
            },
            "header": {
             "fill": {
              "color": "#C8D4E3"
             },
             "line": {
              "color": "white"
             }
            },
            "type": "table"
           }
          ]
         },
         "layout": {
          "annotationdefaults": {
           "arrowcolor": "#2a3f5f",
           "arrowhead": 0,
           "arrowwidth": 1
          },
          "autotypenumbers": "strict",
          "coloraxis": {
           "colorbar": {
            "outlinewidth": 0,
            "ticks": ""
           }
          },
          "colorscale": {
           "diverging": [
            [
             0,
             "#8e0152"
            ],
            [
             0.1,
             "#c51b7d"
            ],
            [
             0.2,
             "#de77ae"
            ],
            [
             0.3,
             "#f1b6da"
            ],
            [
             0.4,
             "#fde0ef"
            ],
            [
             0.5,
             "#f7f7f7"
            ],
            [
             0.6,
             "#e6f5d0"
            ],
            [
             0.7,
             "#b8e186"
            ],
            [
             0.8,
             "#7fbc41"
            ],
            [
             0.9,
             "#4d9221"
            ],
            [
             1,
             "#276419"
            ]
           ],
           "sequential": [
            [
             0,
             "#0d0887"
            ],
            [
             0.1111111111111111,
             "#46039f"
            ],
            [
             0.2222222222222222,
             "#7201a8"
            ],
            [
             0.3333333333333333,
             "#9c179e"
            ],
            [
             0.4444444444444444,
             "#bd3786"
            ],
            [
             0.5555555555555556,
             "#d8576b"
            ],
            [
             0.6666666666666666,
             "#ed7953"
            ],
            [
             0.7777777777777778,
             "#fb9f3a"
            ],
            [
             0.8888888888888888,
             "#fdca26"
            ],
            [
             1,
             "#f0f921"
            ]
           ],
           "sequentialminus": [
            [
             0,
             "#0d0887"
            ],
            [
             0.1111111111111111,
             "#46039f"
            ],
            [
             0.2222222222222222,
             "#7201a8"
            ],
            [
             0.3333333333333333,
             "#9c179e"
            ],
            [
             0.4444444444444444,
             "#bd3786"
            ],
            [
             0.5555555555555556,
             "#d8576b"
            ],
            [
             0.6666666666666666,
             "#ed7953"
            ],
            [
             0.7777777777777778,
             "#fb9f3a"
            ],
            [
             0.8888888888888888,
             "#fdca26"
            ],
            [
             1,
             "#f0f921"
            ]
           ]
          },
          "colorway": [
           "#636efa",
           "#EF553B",
           "#00cc96",
           "#ab63fa",
           "#FFA15A",
           "#19d3f3",
           "#FF6692",
           "#B6E880",
           "#FF97FF",
           "#FECB52"
          ],
          "font": {
           "color": "#2a3f5f"
          },
          "geo": {
           "bgcolor": "white",
           "lakecolor": "white",
           "landcolor": "#E5ECF6",
           "showlakes": true,
           "showland": true,
           "subunitcolor": "white"
          },
          "hoverlabel": {
           "align": "left"
          },
          "hovermode": "closest",
          "mapbox": {
           "style": "light"
          },
          "paper_bgcolor": "white",
          "plot_bgcolor": "#E5ECF6",
          "polar": {
           "angularaxis": {
            "gridcolor": "white",
            "linecolor": "white",
            "ticks": ""
           },
           "bgcolor": "#E5ECF6",
           "radialaxis": {
            "gridcolor": "white",
            "linecolor": "white",
            "ticks": ""
           }
          },
          "scene": {
           "xaxis": {
            "backgroundcolor": "#E5ECF6",
            "gridcolor": "white",
            "gridwidth": 2,
            "linecolor": "white",
            "showbackground": true,
            "ticks": "",
            "zerolinecolor": "white"
           },
           "yaxis": {
            "backgroundcolor": "#E5ECF6",
            "gridcolor": "white",
            "gridwidth": 2,
            "linecolor": "white",
            "showbackground": true,
            "ticks": "",
            "zerolinecolor": "white"
           },
           "zaxis": {
            "backgroundcolor": "#E5ECF6",
            "gridcolor": "white",
            "gridwidth": 2,
            "linecolor": "white",
            "showbackground": true,
            "ticks": "",
            "zerolinecolor": "white"
           }
          },
          "shapedefaults": {
           "line": {
            "color": "#2a3f5f"
           }
          },
          "ternary": {
           "aaxis": {
            "gridcolor": "white",
            "linecolor": "white",
            "ticks": ""
           },
           "baxis": {
            "gridcolor": "white",
            "linecolor": "white",
            "ticks": ""
           },
           "bgcolor": "#E5ECF6",
           "caxis": {
            "gridcolor": "white",
            "linecolor": "white",
            "ticks": ""
           }
          },
          "title": {
           "x": 0.05
          },
          "xaxis": {
           "automargin": true,
           "gridcolor": "white",
           "linecolor": "white",
           "ticks": "",
           "title": {
            "standoff": 15
           },
           "zerolinecolor": "white",
           "zerolinewidth": 2
          },
          "yaxis": {
           "automargin": true,
           "gridcolor": "white",
           "linecolor": "white",
           "ticks": "",
           "title": {
            "standoff": 15
           },
           "zerolinecolor": "white",
           "zerolinewidth": 2
          }
         }
        }
       }
      }
     },
     "metadata": {},
     "output_type": "display_data"
    }
   ],
   "source": [
    "navis.plot3d(720575940624234254)"
   ]
  }
 ],
 "metadata": {
  "kernelspec": {
   "display_name": "base",
   "language": "python",
   "name": "python3"
  },
  "language_info": {
   "codemirror_mode": {
    "name": "ipython",
    "version": 3
   },
   "file_extension": ".py",
   "mimetype": "text/x-python",
   "name": "python",
   "nbconvert_exporter": "python",
   "pygments_lexer": "ipython3",
   "version": "3.9.13 (main, Aug 25 2022, 18:29:29) \n[Clang 12.0.0 ]"
  },
  "orig_nbformat": 4,
  "vscode": {
   "interpreter": {
    "hash": "d8ae924da46794a1cbf88d5e0019ca8ad6dbdd37da8d02e533956f9d1ba25e02"
   }
  }
 },
 "nbformat": 4,
 "nbformat_minor": 2
}
